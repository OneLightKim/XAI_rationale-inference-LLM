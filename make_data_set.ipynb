{
 "cells": [
  {
   "cell_type": "code",
   "execution_count": 1,
   "metadata": {},
   "outputs": [
    {
     "name": "stderr",
     "output_type": "stream",
     "text": [
      "/home/rbqlsquf2/workspace/XAI_rationale-inference-LLM/.venv/lib/python3.8/site-packages/tqdm/auto.py:21: TqdmWarning: IProgress not found. Please update jupyter and ipywidgets. See https://ipywidgets.readthedocs.io/en/stable/user_install.html\n",
      "  from .autonotebook import tqdm as notebook_tqdm\n",
      "Loading checkpoint shards: 100%|██████████| 2/2 [00:02<00:00,  1.35s/it]\n"
     ]
    }
   ],
   "source": [
    "from transformers import AutoTokenizer, AutoModelForCausalLM\n",
    "import torch\n",
    "model_path = \"Qwen/Qwen2.5-3B-Instruct\"\n",
    "tokenizer = AutoTokenizer.from_pretrained(model_path)\n",
    "model = AutoModelForCausalLM.from_pretrained(\n",
    "    model_path,\n",
    "    device_map=\"auto\",\n",
    "    torch_dtype=torch.float16,\n",
    ")\n",
    "tokenizer.padding_side = 'left'"
   ]
  },
  {
   "cell_type": "code",
   "execution_count": 2,
   "metadata": {},
   "outputs": [],
   "source": [
    "new_special_tokens = {\"additional_special_tokens\": [\"<|mrc|>\", \"<|summary|>\"]}"
   ]
  },
  {
   "cell_type": "code",
   "execution_count": 5,
   "metadata": {},
   "outputs": [
    {
     "data": {
      "text/plain": [
       "<bound method SpecialTokensMixin.add_special_tokens of Qwen2TokenizerFast(name_or_path='Qwen/Qwen2.5-3B-Instruct', vocab_size=151643, model_max_length=131072, is_fast=True, padding_side='left', truncation_side='right', special_tokens={'eos_token': '<|im_end|>', 'pad_token': '<|endoftext|>', 'additional_special_tokens': ['<|mrc|>', '<|summary|>']}, clean_up_tokenization_spaces=False),  added_tokens_decoder={\n",
       "\t151643: AddedToken(\"<|endoftext|>\", rstrip=False, lstrip=False, single_word=False, normalized=False, special=True),\n",
       "\t151644: AddedToken(\"<|im_start|>\", rstrip=False, lstrip=False, single_word=False, normalized=False, special=True),\n",
       "\t151645: AddedToken(\"<|im_end|>\", rstrip=False, lstrip=False, single_word=False, normalized=False, special=True),\n",
       "\t151646: AddedToken(\"<|object_ref_start|>\", rstrip=False, lstrip=False, single_word=False, normalized=False, special=True),\n",
       "\t151647: AddedToken(\"<|object_ref_end|>\", rstrip=False, lstrip=False, single_word=False, normalized=False, special=True),\n",
       "\t151648: AddedToken(\"<|box_start|>\", rstrip=False, lstrip=False, single_word=False, normalized=False, special=True),\n",
       "\t151649: AddedToken(\"<|box_end|>\", rstrip=False, lstrip=False, single_word=False, normalized=False, special=True),\n",
       "\t151650: AddedToken(\"<|quad_start|>\", rstrip=False, lstrip=False, single_word=False, normalized=False, special=True),\n",
       "\t151651: AddedToken(\"<|quad_end|>\", rstrip=False, lstrip=False, single_word=False, normalized=False, special=True),\n",
       "\t151652: AddedToken(\"<|vision_start|>\", rstrip=False, lstrip=False, single_word=False, normalized=False, special=True),\n",
       "\t151653: AddedToken(\"<|vision_end|>\", rstrip=False, lstrip=False, single_word=False, normalized=False, special=True),\n",
       "\t151654: AddedToken(\"<|vision_pad|>\", rstrip=False, lstrip=False, single_word=False, normalized=False, special=True),\n",
       "\t151655: AddedToken(\"<|image_pad|>\", rstrip=False, lstrip=False, single_word=False, normalized=False, special=True),\n",
       "\t151656: AddedToken(\"<|video_pad|>\", rstrip=False, lstrip=False, single_word=False, normalized=False, special=True),\n",
       "\t151657: AddedToken(\"<tool_call>\", rstrip=False, lstrip=False, single_word=False, normalized=False, special=False),\n",
       "\t151658: AddedToken(\"</tool_call>\", rstrip=False, lstrip=False, single_word=False, normalized=False, special=False),\n",
       "\t151659: AddedToken(\"<|fim_prefix|>\", rstrip=False, lstrip=False, single_word=False, normalized=False, special=False),\n",
       "\t151660: AddedToken(\"<|fim_middle|>\", rstrip=False, lstrip=False, single_word=False, normalized=False, special=False),\n",
       "\t151661: AddedToken(\"<|fim_suffix|>\", rstrip=False, lstrip=False, single_word=False, normalized=False, special=False),\n",
       "\t151662: AddedToken(\"<|fim_pad|>\", rstrip=False, lstrip=False, single_word=False, normalized=False, special=False),\n",
       "\t151663: AddedToken(\"<|repo_name|>\", rstrip=False, lstrip=False, single_word=False, normalized=False, special=False),\n",
       "\t151664: AddedToken(\"<|file_sep|>\", rstrip=False, lstrip=False, single_word=False, normalized=False, special=False),\n",
       "\t151665: AddedToken(\"<|mrc|>\", rstrip=False, lstrip=False, single_word=False, normalized=False, special=True),\n",
       "\t151666: AddedToken(\"<|summary|>\", rstrip=False, lstrip=False, single_word=False, normalized=False, special=True),\n",
       "}>"
      ]
     },
     "execution_count": 5,
     "metadata": {},
     "output_type": "execute_result"
    }
   ],
   "source": [
    "tokenizer.add_special_tokens(new_special_tokens)"
   ]
  },
  {
   "cell_type": "code",
   "execution_count": 4,
   "metadata": {},
   "outputs": [
    {
     "data": {
      "text/plain": [
       "Embedding(151667, 2048)"
      ]
     },
     "execution_count": 4,
     "metadata": {},
     "output_type": "execute_result"
    }
   ],
   "source": [
    "model.resize_token_embeddings(len(tokenizer))"
   ]
  },
  {
   "cell_type": "code",
   "execution_count": 27,
   "metadata": {},
   "outputs": [],
   "source": [
    "from tqdm import tqdm\n",
    "\n",
    "def create_example(all_data):\n",
    "    all_result = []\n",
    "    for data in tqdm(all_data):\n",
    "        data_id = data[\"_id\"]\n",
    "        Question = data[\"question\"]\n",
    "        answer = data[\"answer\"]\n",
    "        context = data[\"context\"]\n",
    "        supporting_facts = data[\"supporting_facts\"]\n",
    "        concat_supporting_sent = \"\"\n",
    "        document_number_support_sent = \"\"\n",
    "        support_dic = {}\n",
    "        write_supporting_sent = \"\"\n",
    "        total_sentence_dic = {}\n",
    "        # 전체 sentence number 세기 위함\n",
    "        total_sentence_number = 1\n",
    "        document_sentence_number = 0\n",
    "        support_num = []\n",
    "        supporting_sentence = \"\"\n",
    "        document = \"\"\n",
    "        for sup_sent in supporting_facts:\n",
    "            title = sup_sent[0]  # supporting fact의 제목\n",
    "            set_num = sup_sent[1]\n",
    "            if title not in support_dic.keys():  # 문장번호\n",
    "                support_dic[title] = []\n",
    "            support_dic[title].append(set_num)\n",
    "        \n",
    "        for index, j in enumerate(context):\n",
    "            title = j[0]\n",
    "            sentences = \"\"\n",
    "            if title in support_dic:\n",
    "                document_sentence_number = 0\n",
    "                for sent in j[1]:\n",
    "                    sentence = \"[{}] {}\".format(total_sentence_number, sent) + \"\\n\"\n",
    "                    sentences = sentences + sentence\n",
    "                    if document_sentence_number in support_dic[title]:\n",
    "                        support_num.append(total_sentence_number)\n",
    "                        supporting_sentence = supporting_sentence + sentence\n",
    "                    document_sentence_number += 1\n",
    "                    total_sentence_number += 1\n",
    "\n",
    "            else:\n",
    "                for sent in j[1]:\n",
    "                    sentence = \"[{}] {}\".format(total_sentence_number, sent) + \"\\n\"\n",
    "                    sentences = sentences + sentence\n",
    "                    total_sentence_number += 1\n",
    "\n",
    "            write_sent = \"Document {} : {}\".format(index + 1, title) + \"\\n\" + \"{}\".format(sentences)\n",
    "            document = document + write_sent + \"\\n\"\n",
    "        document = document.rstrip(\"\\n\")\n",
    "        instruction = \"<|mrc|>True\\n**Question**\\n{}\\n<|summary|>Flase\".format(Question)\n",
    "        prompt = (\n",
    "            \"**Document**\\n{}\".format(document)\n",
    "        )\n",
    "        response = \"**Answer**\\n{}\\n**Summary**\\n\".format(answer)\n",
    "        # response = \"**Answer**: {}\\n**Supporting Sentences**: {}\".format(answer, supporting_sentence)\n",
    "        messages = [\n",
    "            {\"role\": \"system\", \"content\": instruction},\n",
    "            {\"role\": \"user\", \"content\": prompt},\n",
    "            # {\"role\": \"assistant\", \"content\": response},\n",
    "        ]\n",
    "        result = {}\n",
    "        result[\"text\"] = tokenizer.apply_chat_template(messages, tokenize=False)\n",
    "\n",
    "        messages = [\n",
    "            {\"role\": \"system\", \"content\": instruction},\n",
    "            {\"role\": \"user\", \"content\": prompt},\n",
    "            {\"role\": \"assistant\", \"content\": response},\n",
    "        ]\n",
    "        result[\"all_text\"] = tokenizer.apply_chat_template(messages, tokenize=False)\n",
    "        result[\"label\"] = response\n",
    "        all_result.append(result)\n",
    "        supporting_sentence = \"\"\n",
    "        # print(model_answer)\n",
    "        # if len(all_result) ==1000:\n",
    "        #     break\n",
    "    return all_result\n",
    "    "
   ]
  },
  {
   "cell_type": "code",
   "execution_count": 28,
   "metadata": {},
   "outputs": [
    {
     "name": "stderr",
     "output_type": "stream",
     "text": [
      "100%|██████████| 7405/7405 [00:00<00:00, 10944.32it/s]\n"
     ]
    }
   ],
   "source": [
    "import json\n",
    "# file_path = \"data/hotpot_train_v1.1_re.json\"\n",
    "file_path = \"data/hotpot_dev.json\"\n",
    "with open(file_path, \"r\", encoding=\"utf-8\") as file:\n",
    "    dev_data = json.load(file)\n",
    "\n",
    "input_data = create_example(dev_data)"
   ]
  },
  {
   "cell_type": "code",
   "execution_count": 30,
   "metadata": {},
   "outputs": [
    {
     "name": "stderr",
     "output_type": "stream",
     "text": [
      "100%|██████████| 7405/7405 [00:25<00:00, 292.09it/s]"
     ]
    },
    {
     "name": "stdout",
     "output_type": "stream",
     "text": [
      "1108\n"
     ]
    },
    {
     "name": "stderr",
     "output_type": "stream",
     "text": [
      "\n"
     ]
    }
   ],
   "source": [
    "from tqdm import tqdm\n",
    "all_len = []\n",
    "all_result = []\n",
    "over_num = 0\n",
    "for input_data_ in tqdm(input_data):\n",
    "    text = input_data_[\"all_text\"]\n",
    "    count = len(tokenizer(text)[\"input_ids\"])\n",
    "    if count <= 2048:\n",
    "        all_result.append(input_data_)\n",
    "    else:\n",
    "        over_len = count - 2048\n",
    "        input_data_['text'] = input_data_['text'][:over_len]\n",
    "        over_num +=1\n",
    "    # all_len.append(len(tokenizer(text)[\"input_ids\"]))\n",
    "print(over_num)"
   ]
  },
  {
   "cell_type": "code",
   "execution_count": 38,
   "metadata": {},
   "outputs": [],
   "source": [
    "for result in all_result:\n",
    "    result[\"label\"] = \"assistant\\n\" + result[\"label\"]\n",
    "    "
   ]
  },
  {
   "cell_type": "code",
   "execution_count": 39,
   "metadata": {},
   "outputs": [],
   "source": [
    "with open(\"data/qwen_dev_data.json\", \"w\", encoding=\"utf-8\") as f:\n",
    "    json.dump(all_result, f, ensure_ascii=False, indent=4)"
   ]
  },
  {
   "cell_type": "code",
   "execution_count": 14,
   "metadata": {},
   "outputs": [
    {
     "name": "stderr",
     "output_type": "stream",
     "text": [
      "7405it [00:17, 426.88it/s]\n"
     ]
    }
   ],
   "source": [
    "from tqdm import tqdm\n",
    "all_len = []\n",
    "all_result = []\n",
    "\n",
    "for data, input_data_ in tqdm(zip(dev_data, input_data)):\n",
    "    text = input_data_[\"text\"]\n",
    "    if len(tokenizer(text)[\"input_ids\"]) <= 2048:\n",
    "        # data[\"text\"] = data[\"text\"]\n",
    "        all_result.append(data)\n",
    "    # all_len.append(len(tokenizer(text)[\"input_ids\"]))"
   ]
  },
  {
   "cell_type": "code",
   "execution_count": 16,
   "metadata": {},
   "outputs": [],
   "source": [
    "with open(\"data/teddst_dev.json\", \"w\", encoding=\"utf-8\") as f:\n",
    "    json.dump(input_data, f, ensure_ascii=False, indent=4)"
   ]
  },
  {
   "cell_type": "code",
   "execution_count": 7,
   "metadata": {},
   "outputs": [
    {
     "name": "stdout",
     "output_type": "stream",
     "text": [
      "**Answer**: yes\n",
      "**Supporting Sentences**: [4] Scott Derrickson (born July 16, 1966) is an American director, screenwriter and producer.\n",
      "[17] Edward Davis Wood Jr. (October 10, 1924 – December 10, 1978) was an American filmmaker, actor, writer, producer, and director.\n",
      "\n"
     ]
    }
   ],
   "source": [
    "print(input_data[0][\"label\"])"
   ]
  },
  {
   "cell_type": "code",
   "execution_count": 16,
   "metadata": {},
   "outputs": [
    {
     "name": "stdout",
     "output_type": "stream",
     "text": [
      "6539\n"
     ]
    }
   ],
   "source": [
    "count = len(list(filter(lambda x: x < 2048, all_len)))\n",
    "print(count)"
   ]
  },
  {
   "cell_type": "code",
   "execution_count": null,
   "metadata": {},
   "outputs": [],
   "source": []
  }
 ],
 "metadata": {
  "kernelspec": {
   "display_name": ".venv",
   "language": "python",
   "name": "python3"
  },
  "language_info": {
   "codemirror_mode": {
    "name": "ipython",
    "version": 3
   },
   "file_extension": ".py",
   "mimetype": "text/x-python",
   "name": "python",
   "nbconvert_exporter": "python",
   "pygments_lexer": "ipython3",
   "version": "3.8.10"
  }
 },
 "nbformat": 4,
 "nbformat_minor": 2
}
