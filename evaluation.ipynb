{
 "cells": [
  {
   "cell_type": "code",
   "execution_count": 1,
   "metadata": {},
   "outputs": [],
   "source": [
    "import json\n",
    "with open(\"qwen_answer_hotpot_50.json\", \"r\", encoding=\"utf-8\") as file:\n",
    "    dev_data = json.load(file)"
   ]
  },
  {
   "cell_type": "code",
   "execution_count": 16,
   "metadata": {},
   "outputs": [],
   "source": [
    "import re\n",
    "def normalize_answer(s):\n",
    "    \"\"\"간단한 토큰화와 정규화\"\"\"\n",
    "    s = s.lower()  # 소문자 변환\n",
    "    s = re.sub(r'\\b(a|an|the)\\b', ' ', s)  # 불필요한 관사 제거\n",
    "    s = re.sub(r'[^a-z0-9]', ' ', s)  # 알파벳과 숫자 외 제거\n",
    "    return ' '.join(s.split())  # 공백 정리\n",
    "\n",
    "def f1_score_hotpot(prediction, ground_truth):\n",
    "    \"\"\"예측 답과 실제 답 간의 F1 점수 계산\"\"\"\n",
    "    pred_tokens = normalize_answer(prediction).split()\n",
    "    gt_tokens = normalize_answer(ground_truth).split()\n",
    "    \n",
    "    common_tokens = set(pred_tokens) & set(gt_tokens)\n",
    "    num_common = len(common_tokens)\n",
    "    \n",
    "    if num_common == 0:\n",
    "        return 0\n",
    "    \n",
    "    precision = num_common / len(pred_tokens)\n",
    "    recall = num_common / len(gt_tokens)\n",
    "    \n",
    "    f1 = 2 * (precision * recall) / (precision + recall)\n",
    "    return f1"
   ]
  },
  {
   "cell_type": "code",
   "execution_count": 17,
   "metadata": {},
   "outputs": [
    {
     "name": "stdout",
     "output_type": "stream",
     "text": [
      "yes\n",
      "\n",
      "----\n",
      "Chief of Protocol\n",
      "Secretary of State for Constitutional Affairs\n",
      "----\n",
      "Animorphs\n",
      "The Hork-Bajir Chronicles\n",
      "----\n",
      "no\n",
      "\n",
      "----\n",
      "Greenwich Village, New York City\n",
      "New York City\n",
      "----\n",
      "YG Entertainment\n",
      "YG Entertainment\n",
      "----\n",
      "Terry Richardson\n",
      "Annie Morton\n",
      "----\n",
      "yes\n",
      "yes\n",
      "----\n",
      "Kansas Song\n",
      "The University of Missouri–Kansas City\n",
      "----\n",
      "David Weissman\n",
      "David Weissman\n",
      "----\n",
      "1999\n",
      "1999\n",
      "----\n",
      "from 1986 to 2013\n",
      "1996\n",
      "----\n",
      "9,984\n",
      "9,984\n",
      "----\n",
      "the North Atlantic Conference\n",
      "the Vermont Catamounts men's soccer team currently competes in a conference that was formerly known as the Eastern College Athletic Conference-North from 1979 to 1988 and the North Atlantic Conference from 1988 to 1996\n",
      "----\n",
      "yes\n",
      "yes\n",
      "----\n",
      "1969 until 1974\n",
      "1969–1974\n",
      "----\n",
      "Robert Erskine Childers DSC\n",
      "Robert Erskine Childers\n",
      "----\n",
      "Pedro Rodríguez\n",
      "Sergio Pérez\n",
      "----\n",
      "Sonic\n",
      "Tigger\n",
      "----\n",
      "keyboard function keys\n",
      "Garage Door Opener\n",
      "----\n"
     ]
    }
   ],
   "source": [
    "from sklearn.metrics import f1_score\n",
    "\n",
    "result = []\n",
    "for dev in dev_data:\n",
    "    predict = \"\"\n",
    "    answer = dev[\"answer\"].split(\"**Answer**\")[1].split(\"**Summary**\")[0].strip()\n",
    "    generated_text = dev[\"generated_text\"].split(\"assistant\\n\")[1]\n",
    "    if \"**Answer**\" in generated_text:\n",
    "        predict = generated_text.split(\"**Answer**\")[1].replace(\"**Summary**\\n\", \"\")\n",
    "    else:\n",
    "        predict = generated_text\n",
    "    if answer == \"yes\":\n",
    "        if answer in generated_text.lower() and \"no\" not in generated_text.lower():\n",
    "            predict = \"yes\"\n",
    "        else:\n",
    "            predict = \"\"\n",
    "    elif answer == \"no\":\n",
    "        if answer in generated_text.lower() and \"yes\" not in generated_text.lower():\n",
    "            predict = \"yes\"\n",
    "        else:\n",
    "            predict = \"\"\n",
    "    answer = answer.strip()\n",
    "    predict = predict.strip()\n",
    "    print(answer)\n",
    "    print(predict)\n",
    "    print(\"----\")\n",
    "    result.append(f1_score_hotpot(answer, predict))"
   ]
  },
  {
   "cell_type": "code",
   "execution_count": 19,
   "metadata": {},
   "outputs": [
    {
     "data": {
      "text/plain": [
       "0.45432539682539685"
      ]
     },
     "execution_count": 19,
     "metadata": {},
     "output_type": "execute_result"
    }
   ],
   "source": [
    "sum(result)/len(result)"
   ]
  },
  {
   "cell_type": "code",
   "execution_count": 21,
   "metadata": {},
   "outputs": [],
   "source": [
    "import json\n",
    "with open(\"qwen_answer_cnn_50.json\", \"r\", encoding=\"utf-8\") as file:\n",
    "    dev_data = json.load(file)"
   ]
  },
  {
   "cell_type": "code",
   "execution_count": 28,
   "metadata": {},
   "outputs": [
    {
     "name": "stderr",
     "output_type": "stream",
     "text": [
      "1264.56s - pydevd: Sending message related to process being replaced timed-out after 5 seconds\n"
     ]
    },
    {
     "name": "stdout",
     "output_type": "stream",
     "text": [
      "Collecting rouge_score\n",
      "  Downloading rouge_score-0.1.2.tar.gz (17 kB)\n",
      "  Installing build dependencies ... \u001b[?25ldone\n",
      "\u001b[?25h  Getting requirements to build wheel ... \u001b[?25ldone\n",
      "\u001b[?25h  Preparing metadata (pyproject.toml) ... \u001b[?25ldone\n",
      "\u001b[?25hCollecting absl-py (from rouge_score)\n",
      "  Downloading absl_py-2.1.0-py3-none-any.whl.metadata (2.3 kB)\n",
      "Requirement already satisfied: nltk in ./.venv/lib/python3.8/site-packages (from rouge_score) (3.9.1)\n",
      "Requirement already satisfied: numpy in ./.venv/lib/python3.8/site-packages (from rouge_score) (1.24.4)\n",
      "Requirement already satisfied: six>=1.14.0 in ./.venv/lib/python3.8/site-packages (from rouge_score) (1.16.0)\n",
      "Requirement already satisfied: click in ./.venv/lib/python3.8/site-packages (from nltk->rouge_score) (8.1.7)\n",
      "Requirement already satisfied: joblib in ./.venv/lib/python3.8/site-packages (from nltk->rouge_score) (1.4.2)\n",
      "Requirement already satisfied: regex>=2021.8.3 in ./.venv/lib/python3.8/site-packages (from nltk->rouge_score) (2024.9.11)\n",
      "Requirement already satisfied: tqdm in ./.venv/lib/python3.8/site-packages (from nltk->rouge_score) (4.66.5)\n",
      "Downloading absl_py-2.1.0-py3-none-any.whl (133 kB)\n",
      "Building wheels for collected packages: rouge_score\n",
      "  Building wheel for rouge_score (pyproject.toml) ... \u001b[?25ldone\n",
      "\u001b[?25h  Created wheel for rouge_score: filename=rouge_score-0.1.2-py3-none-any.whl size=24934 sha256=c5b71d94707fe0b7f661fa5dda4a1da2bb480d39068a164a09d313b234d8a612\n",
      "  Stored in directory: /home/rbqlsquf2/.cache/pip/wheels/24/55/6f/ebfc4cb176d1c9665da4e306e1705496206d08215c1acd9dde\n",
      "Successfully built rouge_score\n",
      "Installing collected packages: absl-py, rouge_score\n",
      "Successfully installed absl-py-2.1.0 rouge_score-0.1.2\n"
     ]
    }
   ],
   "source": [
    "!pip install rouge_score"
   ]
  },
  {
   "cell_type": "code",
   "execution_count": 29,
   "metadata": {},
   "outputs": [],
   "source": [
    "from rouge_score import rouge_scorer\n",
    "\n",
    "def calculate_rouge(predicted_summary, reference_summary):\n",
    "    # ROUGE 계산기 생성 (rouge1, rouge2, rougeL을 사용)\n",
    "    scorer = rouge_scorer.RougeScorer(['rouge1', 'rouge2', 'rougeL'], use_stemmer=True)\n",
    "    \n",
    "    # ROUGE 점수 계산\n",
    "    scores = scorer.score(reference_summary, predicted_summary)\n",
    "    \n",
    "    return scores"
   ]
  },
  {
   "cell_type": "code",
   "execution_count": 33,
   "metadata": {},
   "outputs": [
    {
     "name": "stdout",
     "output_type": "stream",
     "text": [
      "Membership gives the ICC jurisdiction over alleged crimes committed in Palestinian territories since last June . Israel and the United States opposed the move, which could open the door to war crimes investigations against Israelis .\n",
      "Palestinians joined the International Criminal Court on Wednesday, becoming the 123rd member. The move gives the court jurisdiction over alleged crimes in Palestinian territories.\n",
      "----\n",
      "Theia, a bully breed mix, was apparently hit by a car, whacked with a hammer and buried in a field . \"She's a true miracle dog and she deserves a good life,\" says Sara Mellado, who is looking for a home for Theia .\n",
      "Theia, a dog who was hit by a car, beaten with a hammer and buried. Theia survived. A dog who was hit by a car, beaten with a hammer and buried, has survived. She's now at a veterinary teaching hospital.\n",
      "----\n",
      "Mohammad Javad Zarif has spent more time with John Kerry than any other foreign minister . He once participated in a takeover of the Iranian Consulate in San Francisco . The Iranian foreign minister tweets in English .\n",
      "Mohammad Javad Zarif is the Iranian foreign minister. He was nominated to be foreign minister by Hassan Rouhami. He received a hero's welcome as he arrived in Iran on a sunny Friday morning.\n",
      "----\n",
      "17 Americans were exposed to the Ebola virus while in Sierra Leone in March . Another person was diagnosed with the disease and taken to hospital in Maryland . National Institutes of Health says the patient is in fair condition after weeks of treatment .\n",
      "CDC says last of 17 patients will be released by Thursday. Five Americans who were monitored at a Nebraska hospital have been released.\n",
      "----\n",
      "Student is no longer on Duke University campus and will face disciplinary review . School officials identified student during investigation and the person admitted to hanging the noose, Duke says . The noose, made of rope, was discovered on campus about 2 a.m.\n",
      "Duke University student admitted to hanging noose. No other people were involved, but criminal investigations are ongoing. Duke University students march after discovery.\n",
      "----\n",
      "College-bound basketball star asks girl with Down syndrome to high school prom . Pictures of the two during the \"prom-posal\" have gone viral .\n",
      "Trey Moses, a star basketball player at Eastern High School in Louisville, Kentucky, asked Ellie Meredith, a 15-year-old with Down syndrome, to prom. The pair met through a special program at their school that pairs students with special needs with others who don't. Trey's mother Shelly Moses says the pair have a lot in common: \"They both love Taylor Swift and they both love to play basketball.\"\n",
      "----\n",
      "Amnesty's annual death penalty report catalogs encouraging signs, but setbacks in numbers of those sentenced to death . Organization claims that governments around the world are using the threat of terrorism to advance executions . The number of executions worldwide has gone down by almost 22% compared with 2013, but death sentences up by 28% .\n",
      "Amnesty International's annual report on the death penalty shows that the number of executions worldwide has gone down by almost 22% on the previous year. At least 607 people were executed around the world in 2014, compared to 778 in 2013. The report cites the example of Pakistan lifting a six-year moratorium on the execution of civilians following the horrific attack on a school in Peshawar in December. The report notes that the spike in sentencing is attributable to mass-sentencing in countries including Egypt and Nigeria, \"against scores of people in some cases.\" Opinion: Sharp spike in death sentences.\n",
      "----\n",
      "Andrew Getty's death appears to be from natural causes, police say, citing coroner's early assessment . In a petition for a restraining order, Getty had written he had a serious medical condition. Police say this is not a criminal matter at this time .\n",
      "Andrew Getty, 47, appears to have died of natural causes, a Los Angeles Police Department spokesman said. He had several health issues, an autopsy will be conducted.\n",
      "----\n",
      "Once a super typhoon, Maysak is now a tropical storm with 70 mph winds . It could still cause flooding, landslides and other problems in the Philippines .\n",
      "The storm is classified as a tropical storm, but could still cause flooding and landslides. It's forecast to make landfall Sunday morning on the southeastern coast of Isabela province.\n",
      "----\n",
      "Bob Barker returned to host \"The Price Is Right\" on Wednesday . Barker, 91, had retired as host in 2007 .\n",
      "Bob Barker, 91, hosted his first \"Price is Right\" show since 2007. He will host the show's finale May 29.\n",
      "----\n",
      "London's Metropolitan Police say the man was arrested at Luton airport after landing on a flight from Istanbul . He's been charged with terror offenses allegedly committed since the start of November .\n",
      "The 19-year-old has been charged with terror offenses after being arrested at Luton Airport. The teenager, who is a UK national, had traveled from Istanbul on a flight.\n",
      "----\n",
      "\"Furious 7\" pays tribute to star Paul Walker, who died during filming . Vin Diesel: \"This movie is more than a movie\" \"Furious 7\" opens Friday .\n",
      "Paul Walker died in a car crash in 2013. He was the star of the \"Fast & Furious\" franchise. His brother Cody says he would be proud of \"Furious 7\".\n",
      "----\n",
      "Museum: Anne Frank died earlier than previously believed . Researchers re-examined archives and testimonies of survivors . Anne and older sister Margot Frank are believed to have died in February 1945 .\n",
      "New research suggests Anne Frank died a month earlier than previously thought. New study re-examined archives of the Red Cross, the International Training Service and the Bergen-Belsen Memorial. Researchers concluded that Anne and her older sister, Margot Frank, died at least a month earlier than previously thought.\n",
      "----\n",
      "LZ: Indiana law pushing back LGBT rights, and other states' anti-LGBT moves, bow to far right wing that GOP candidates need for 2016 . Cruz, Huckabee, Jindal, Carson, Walker are reviving culture wars, he says.  Equality for LGBT has not yet \"won\" in America .\n",
      "Mike Pence, a favorite of the Koch brothers, signed a religious freedom bill that allows discrimination against gays and lesbians. The move drew criticism from the GOP and the Democratic Party. Republicans are now trying to figure out how to handle the backlash. The move may help them in the primaries but could hurt them in the general election.\n",
      "----\n",
      "Singing the national anthem is a risky proposition . Whitney Houston nailed it; Roseanne Barr destroyed it .\n",
      "Vince Neil: \"The Star-Spangled Banner\" singer mangled the national anthem at a Las Vegas football game. He was booed by the crowd. Jimi Hendrix: Guitarist's psychedelic version of the anthem inflamed mainstream America. Whitney Houston: Singer's rendition at Super Bowl XXV set the modern standard. Roseanne Barr: Comedian's rendition of the anthem at a San Diego Padres game was booed. Michael Bolton: Singer's rendition of the anthem at an American League Championship Series game was overwrought.\n",
      "----\n",
      "While Republican Gov. Asa Hutchinson was weighing an Arkansas religious freedom bill, Walmart voiced its opposition . Walmart and other high-profile businesses are showing their support for gay and lesbian rights . Their stance puts them in conflict with socially conservative Republicans, traditionally seen as allies .\n",
      "Walmart's opposition to a religious freedom law in Arkansas is part of a broader trend. The company's opposition to the measure comes as it boosts wages and expands health benefits.\n",
      "----\n",
      "Amnesty International releases its annual review of the death penalty worldwide; much of it makes for grim reading . Salil Shetty: Countries that use executions to deal with problems are on the wrong side of history .\n",
      "The death penalty was used to tackle crime and terrorism in 2014, according to a new report. Amnesty International says many of those executed were drug traffickers. In Pakistan, the government lifted a six-year moratorium on the death penalty. In Iran, the government said it was a move to end a surge in violent crime. The death penalty was used to tackle crime and terrorism in 2014, according to a new report. Amnesty International says many of those executed were drug traffickers. In Pakistan, the government lifted a six-year moratorium on the death penalty. In Iran, the government said it was a move to end a surge in violent crime. The death penalty was used to tackle crime and terrorism in 2014, according to a new report. Amnesty International says many of those executed were drug traffickers. In Pakistan, the government lifted a six-year moratorium on the death penalty. In Iran, the government said it was a move to end a surge in violent crime. The death penalty was used to tackle crime and terrorism in 2014, according to a new report. Amnesty International says many of those executed were drug traffickers. In Pakistan, the government\n",
      "----\n",
      "Marseille prosecutor says \"so far no videos were used in the crash investigation\" despite media reports . Journalists at Bild and Paris Match are \"very confident\" the video clip is real, an editor says . Andreas Lubitz had informed his Lufthansa training school of an episode of severe depression, airline says .\n",
      "French prosecutor says no video footage was recovered from Germanwings Flight 9525 crash site. Paris Match and Bild claim they watched cell phone video showing final moments of plane. No cell phones have been sent to criminal research institute for analysis. Two sources say Lubitz was in good health when he flew Germanwings Flight 9525.\n",
      "----\n",
      "The Rev. Robert Schuller, 88, had been diagnosed with esophageal cancer in 2013 . His TV show, \"Hour of Power,\" was enormously popular in the 1970s and 1980s .\n",
      "Robert H. Schuller, 88, televangelist and founder of \"Hour of Power\" died Thursday. Schuller was born in an Iowa farmhouse without running water. He and his wife met while she played the organ at his church.\n",
      "----\n",
      "Former GOP representative compares President Obama to Andreas Lubitz . Bachmann said with possible Iran deal, Obama will fly \"entire nation into the rocks\" Reaction on social media? She was blasted by Facebook commenters .\n",
      "Bachmann compares Obama to Andreas Lubitz, the co-pilot of Germanwings Flight 9525. The congresswoman says Obama is \"for the 300 million souls of the United States\" what Lubitz was for 150 souls.\n",
      "----\n"
     ]
    }
   ],
   "source": [
    "from sklearn.metrics import f1_score\n",
    "\n",
    "rouge1 = []\n",
    "rouge2 = []\n",
    "rougeL = []\n",
    "for dev in dev_data:\n",
    "    predict = \"\"\n",
    "    answer = dev[\"answer\"].split(\"**Summary**\")[1].strip()\n",
    "    generated_text = dev[\"generated_text\"].split(\"assistant\\n\")[1]\n",
    "    if \"**Answer**\" in generated_text:\n",
    "        predict = generated_text.split(\"**Answer**\")[1].replace(\"**Summary**\\n\", \"\")\n",
    "    else:\n",
    "        predict = generated_text\n",
    "    \n",
    "    answer = answer.strip()\n",
    "    predict = predict.strip()\n",
    "    print(answer)\n",
    "    print(predict)\n",
    "    print(\"----\")\n",
    "    rouge_scores = calculate_rouge(predict, answer)\n",
    "    rouge1.append(rouge_scores['rouge1'].fmeasure)\n",
    "    rouge2.append(rouge_scores['rouge2'].fmeasure)\n",
    "    rougeL.append(rouge_scores['rougeL'].fmeasure)"
   ]
  },
  {
   "cell_type": "code",
   "execution_count": 35,
   "metadata": {},
   "outputs": [
    {
     "name": "stdout",
     "output_type": "stream",
     "text": [
      "0.33227131701560736\n",
      "0.13398218246023427\n",
      "0.2444843813224157\n"
     ]
    }
   ],
   "source": [
    "print(sum(rouge1)/len(rouge1))\n",
    "print(sum(rouge2)/len(rouge2))\n",
    "print(sum(rougeL)/len(rougeL))"
   ]
  },
  {
   "cell_type": "code",
   "execution_count": null,
   "metadata": {},
   "outputs": [],
   "source": []
  }
 ],
 "metadata": {
  "kernelspec": {
   "display_name": ".venv",
   "language": "python",
   "name": "python3"
  },
  "language_info": {
   "codemirror_mode": {
    "name": "ipython",
    "version": 3
   },
   "file_extension": ".py",
   "mimetype": "text/x-python",
   "name": "python",
   "nbconvert_exporter": "python",
   "pygments_lexer": "ipython3",
   "version": "3.8.10"
  }
 },
 "nbformat": 4,
 "nbformat_minor": 2
}
