{
 "cells": [
  {
   "cell_type": "code",
   "execution_count": 1,
   "metadata": {},
   "outputs": [],
   "source": [
    "import json\n",
    "file_path = \"../data/1010data/train_data_1011.json\"\n",
    "with open(file_path, 'r', encoding='utf-8') as f:\n",
    "    data = json.load(f)"
   ]
  },
  {
   "cell_type": "code",
   "execution_count": 2,
   "metadata": {},
   "outputs": [
    {
     "name": "stderr",
     "output_type": "stream",
     "text": [
      "[nltk_data] Downloading package punkt to /home/rbqlsquf2/nltk_data...\n",
      "[nltk_data]   Package punkt is already up-to-date!\n"
     ]
    }
   ],
   "source": [
    "import nltk\n",
    "nltk.download('punkt')  # NLTK에서 사용하는 토크나이저 데이터 다운로드\n",
    "\n",
    "from nltk.tokenize import sent_tokenize\n",
    "\n",
    "def split_sentences_nltk(text):\n",
    "    sentences = sent_tokenize(text)\n",
    "    return sentences"
   ]
  },
  {
   "cell_type": "code",
   "execution_count": 4,
   "metadata": {},
   "outputs": [
    {
     "name": "stdout",
     "output_type": "stream",
     "text": [
      "['Hello!', 'How are you doing today?', \"I'm doing well...\", 'Thank you for asking.']\n"
     ]
    }
   ],
   "source": [
    "text = \"Hello! How are you doing today? I'm doing well... Thank you for asking.\"\n",
    "sentences = split_sentences_nltk(text)\n",
    "print(sentences)"
   ]
  },
  {
   "cell_type": "code",
   "execution_count": 9,
   "metadata": {},
   "outputs": [],
   "source": [
    "def preprocess_punctuation(text):\n",
    "    # 구두점이 반복되는 경우 하나의 구두점으로 축소\n",
    "    text = re.sub(r'([!?])\\1+', r'\\1', text)\n",
    "    return text\n",
    "\n",
    "def split_sentences_nltk_with_punctuation(text):\n",
    "    # 구두점 전처리\n",
    "    processed_text = preprocess_punctuation(text)\n",
    "    # NLTK의 sent_tokenize 사용\n",
    "    sentences = sent_tokenize(processed_text)\n",
    "    return sentences"
   ]
  },
  {
   "cell_type": "code",
   "execution_count": 13,
   "metadata": {},
   "outputs": [
    {
     "name": "stderr",
     "output_type": "stream",
     "text": [
      "  0%|          | 0/90000 [00:00<?, ?it/s]"
     ]
    },
    {
     "name": "stderr",
     "output_type": "stream",
     "text": [
      "100%|██████████| 90000/90000 [01:04<00:00, 1392.08it/s]\n"
     ]
    }
   ],
   "source": [
    "from tqdm import tqdm\n",
    "import re\n",
    "for d in tqdm(data):\n",
    "    d[\"sent\"] = split_sentences_nltk_with_punctuation(d[\"document\"])"
   ]
  },
  {
   "cell_type": "code",
   "execution_count": 18,
   "metadata": {},
   "outputs": [
    {
     "data": {
      "text/plain": [
       "['Test the free available chlorine in your pool.',\n",
       " 'To make sure your saltwater system works properly, you need to be sure the chemicals in your water are balanced properly.',\n",
       " 'To test for free chlorine, you can use a kit with a color wheel and DPD tablets, or you can use a digital meter, both available at pool supply stores.',\n",
       " 'Compare the reading to the free chlorine level recommended in your saltwater system installation manual.',\n",
       " 'Add chlorine tablets if you need to raise the free chlorine level.',\n",
       " 'Be sure to read all of the safety and dosage information on the packaging, as chlorine is a dangerous chemical.',\n",
       " 'Add a neutralizer if you need to lower the free chlorine level.',\n",
       " 'Popular neutralizers include hydrogen peroxide and sodium thiosulfate.',\n",
       " 'You can add these directly to your pool water.',\n",
       " \"Another method for lowering your pool's chlorine levels is to leave it uncovered and wait.\",\n",
       " 'Sunlight will help break down chlorine over time.',\n",
       " \"Use a kit to test your pool's total alkalinity (TA).\",\n",
       " \"Kits for testing your pool's TA levels can be found at a pool supply store.\",\n",
       " 'Use the guidelines in your saltwater system manual to determine the ideal alkalinity for your pool.',\n",
       " 'Use a pH strip to measure the acidity or alkalinity of your water.',\n",
       " 'You can purchase pH testing strips wherever pool supplies are sold.',\n",
       " 'Dip one end of the paper in your pool water, then compare the color of the strip to the chart that came with the strips.',\n",
       " 'The pH level of your pool is different from the total alkalinity, although the two are connected.',\n",
       " 'Add Sodium Carbonate to the water to raise the TA and pH levels.',\n",
       " 'Sodium Carbonate, or soda ash, can be found at any pool supply store.',\n",
       " 'Dissolve the soda ash in a small amount of water, then add the mixture to the pool.',\n",
       " \"If you want to raise the TA level without a big change in the pool's pH, add Sodium Bicarbonate, or baking soda, to the pool.\",\n",
       " 'Wait 24 hours and test again.',\n",
       " 'Add muriatic acid or sodium bisulfate to lower the TA and pH levels.',\n",
       " 'If you need to lower the TA level but not the pH level, add the acid directly to the pool.',\n",
       " 'To lower both, dilute the acid in a gallon of water and add that to the pool.',\n",
       " 'Wait at least 12 hours before making another adjustment.',\n",
       " 'Measure the volume of your pool if you don’t know it.',\n",
       " 'Measure the average depth of your pool.',\n",
       " 'Next, multiply your average depth by the width and the length of your pool in feet, then multiply that number by 7.5, the number of gallons in a cubic foot.',\n",
       " \"If you don't know the average depth of your pool, add the depth of the shallow end and the depth of the deep end and divide by 2 The formula for volume is Average Depth x Width x Length x 7.5 = Volume in gallons Purchase a saltwater generator and a control unit.\",\n",
       " 'Salt systems can vary widely in price and features, but the basics of what you need are the salt generator, which uses electricity to break down the salt into chlorine, and a control unit, which allows you to monitor the system.',\n",
       " 'Make sure you purchase a system for an above-ground pool.',\n",
       " 'You can purchase a saltwater generator at any pool supply store.',\n",
       " 'The system will cost between $150-$700 USD depending on the size you need and the features you choose.',\n",
       " 'Choose a larger system than you need.',\n",
       " 'The system you purchase should be rated for a pool about 10% larger than the one you own.',\n",
       " 'This will keep your system from having to operate at full capacity all the time.',\n",
       " 'Add salt to your pool and let it sit for 24 hours.',\n",
       " 'The instructions on your system will tell you how much salt to use in your water, and it will be based on the volume of your pool.',\n",
       " 'Saltwater pools are usually a salinity of about 3500 ppm.',\n",
       " 'Wait a full day before installing the saltwater system.',\n",
       " 'You can purchase pool-grade salt from a pool supply company.',\n",
       " 'A 40 pounds (18\\xa0kg) bag of salt usually costs about $5 USD.',\n",
       " 'Install the saltwater generator into your pool’s existing plumbing.',\n",
       " 'Make sure you turn off the power to the pool by flipping the circuit breaker on your electrical panel.',\n",
       " 'The specific installation instructions will vary depending on the model you chose, but it should be the last piece of equipment attached to the pool pipe before the water returns to the pool.',\n",
       " \"Since you will be working with electricity and water, you may want to have this step performed professionally if you're not comfortable with electrical equipment.\",\n",
       " 'Install the control unit somewhere close by your pool.',\n",
       " 'The control unit is wired to the saltwater generator, allowing you to easily adjust the levels of salt in your pool.',\n",
       " 'Read the instruction manual that came with your system to determine exactly how to install the control panel.',\n",
       " 'Some models are as simple as mounting the panel on a nearby wall or fence, while others may require you to hook up the wiring yourself.',\n",
       " 'Add a sacrificial zinc anode to prevent galvanic corrosion.',\n",
       " 'When metal is submerged in saltwater, it creates an electrical charge similar to a battery.',\n",
       " 'This process will corrode the metal in your pool.',\n",
       " 'Because zinc corrodes faster than other metals, you can place a piece of zinc known as a sacrificial zinc anode in your pool to slow the corrosion of the other metals.',\n",
       " 'You will need to replace your sacrificial zinc anode 1-2 times a year, or when the anode is about half of its original size.',\n",
       " 'Test your free chlorine and pH levels at least once a week.',\n",
       " 'Saltwater pools require less maintenance than regular pools, but you still need to monitor your water levels.',\n",
       " 'Saltwater pools have a tendency to have a high pH level, which can lead to scale buildup on your pool walls.',\n",
       " 'Use testing kits from your local pool supply store to monitor the levels in your pool, just as you would with a regular pool.',\n",
       " 'Adjust the salt levels using the control unit.',\n",
       " 'Follow the instructions on your saltwater system so that you know exactly how to monitor and adjust the salt levels in your pool.',\n",
       " 'You may occasionally need to add more salt to the water.',\n",
       " 'Shock the pool with chlorine when it starts to look green.',\n",
       " 'Shocking a pool involves adding a dose of concentrated chlorine to the water to kill any bacteria.',\n",
       " 'Regular pools need to be shocked once a week during the hot season, but saltwater pools need this treatment less often.',\n",
       " 'You may need to shock the pool after a heavy rain or when the pool turns green.',\n",
       " 'Replace the cells in your generator every 3-5 years.',\n",
       " 'The cells in your saltwater generator will wear out faster than those in a regular pool.',\n",
       " 'These replacement cells might cost anywhere from $200 to $700 USD']"
      ]
     },
     "execution_count": 18,
     "metadata": {},
     "output_type": "execute_result"
    }
   ],
   "source": [
    "data[4][\"sent\"]"
   ]
  },
  {
   "cell_type": "code",
   "execution_count": 19,
   "metadata": {},
   "outputs": [],
   "source": [
    "file_path = \"../data/1017data/train_sent.json\"\n",
    "with open(file_path, 'w', encoding='utf-8') as f:\n",
    "    json.dump(data, f, ensure_ascii=False, indent=4)"
   ]
  },
  {
   "cell_type": "code",
   "execution_count": null,
   "metadata": {},
   "outputs": [],
   "source": []
  }
 ],
 "metadata": {
  "kernelspec": {
   "display_name": ".venv",
   "language": "python",
   "name": "python3"
  },
  "language_info": {
   "codemirror_mode": {
    "name": "ipython",
    "version": 3
   },
   "file_extension": ".py",
   "mimetype": "text/x-python",
   "name": "python",
   "nbconvert_exporter": "python",
   "pygments_lexer": "ipython3",
   "version": "3.8.10"
  }
 },
 "nbformat": 4,
 "nbformat_minor": 2
}
