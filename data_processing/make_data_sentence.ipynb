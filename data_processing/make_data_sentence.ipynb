{
 "cells": [
  {
   "cell_type": "code",
   "execution_count": 20,
   "metadata": {},
   "outputs": [],
   "source": [
    "import json\n",
    "file_path = \"../data/1010data/train_data_1011.json\"\n",
    "with open(file_path, 'r', encoding='utf-8') as f:\n",
    "    data = json.load(f)"
   ]
  },
  {
   "cell_type": "code",
   "execution_count": 21,
   "metadata": {},
   "outputs": [
    {
     "name": "stderr",
     "output_type": "stream",
     "text": [
      "[nltk_data] Downloading package punkt to /home/rbqlsquf2/nltk_data...\n",
      "[nltk_data]   Package punkt is already up-to-date!\n"
     ]
    }
   ],
   "source": [
    "import nltk\n",
    "nltk.download('punkt')  # NLTK에서 사용하는 토크나이저 데이터 다운로드\n",
    "\n",
    "from nltk.tokenize import sent_tokenize\n",
    "\n",
    "def split_sentences_nltk(text):\n",
    "    sentences = sent_tokenize(text)\n",
    "    return sentences"
   ]
  },
  {
   "cell_type": "code",
   "execution_count": 25,
   "metadata": {},
   "outputs": [
    {
     "name": "stdout",
     "output_type": "stream",
     "text": [
      "Like every year, the 2012 Emmy Awards had its fair mix of jaw-dropping surprises, predictable winners and off-the-cut moments.From Julia Louis-Drefyus‘ hilarious acceptance speech to Jon Cryer’s head-scratching win for Best Comedy Actor, Celebuzz has compiled a list of the best and worst moments from Sunday’s telecast.What will everyone be talking about on Monday?Have a look at the eight top moments in our gallery, above, then share your own thoughts on the ceremony in the comments.For a full recap of the night’s big winners, click here.During the 64th Primetime Emmy Awards, host Jimmy Kimmel urged viewers to take to Twitter and type about comedian Tracy Morgan passing out on stage, instantly sparking 25,000 tweets.\n",
      "\"OMG.\n"
     ]
    }
   ],
   "source": [
    "text = \"Like every year, the 2012 Emmy Awards had its fair mix of jaw-dropping surprises, predictable winners and off-the-cut moments.From Julia Louis-Drefyus‘ hilarious acceptance speech to Jon Cryer’s head-scratching win for Best Comedy Actor, Celebuzz has compiled a list of the best and worst moments from Sunday’s telecast.What will everyone be talking about on Monday?Have a look at the eight top moments in our gallery, above, then share your own thoughts on the ceremony in the comments.For a full recap of the night’s big winners, click here.During the 64th Primetime Emmy Awards, host Jimmy Kimmel urged viewers to take to Twitter and type about comedian Tracy Morgan passing out on stage, instantly sparking 25,000 tweets.\\\"OMG.\"\n",
    "sentences = split_sentences_nltk(text)\n",
    "print(sentences[0])\n",
    "print(sentences[1])"
   ]
  },
  {
   "cell_type": "code",
   "execution_count": 26,
   "metadata": {},
   "outputs": [],
   "source": [
    "def preprocess_punctuation(text):\n",
    "    # 구두점이 반복되는 경우 하나의 구두점으로 축소\n",
    "    text = re.sub(r'([!?])\\1+', r'\\1', text)\n",
    "    return text\n",
    "\n",
    "def split_sentences_nltk_with_punctuation(text):\n",
    "    # 구두점 전처리\n",
    "    processed_text = preprocess_punctuation(text)\n",
    "    # NLTK의 sent_tokenize 사용\n",
    "    sentences = sent_tokenize(processed_text)\n",
    "    return sentences"
   ]
  },
  {
   "cell_type": "code",
   "execution_count": 27,
   "metadata": {},
   "outputs": [
    {
     "name": "stderr",
     "output_type": "stream",
     "text": [
      "100%|██████████| 90000/90000 [01:07<00:00, 1328.13it/s]\n"
     ]
    }
   ],
   "source": [
    "from tqdm import tqdm\n",
    "import re\n",
    "for d in tqdm(data):\n",
    "    d[\"sent\"] = split_sentences_nltk_with_punctuation(d[\"document\"])"
   ]
  },
  {
   "cell_type": "code",
   "execution_count": 33,
   "metadata": {},
   "outputs": [
    {
     "data": {
      "text/plain": [
       "['Like every year, the 2012 Emmy Awards had its fair mix of jaw-dropping surprises, predictable winners and off-the-cut moments.From Julia Louis-Drefyus‘ hilarious acceptance speech to Jon Cryer’s head-scratching win for Best Comedy Actor, Celebuzz has compiled a list of the best and worst moments from Sunday’s telecast.What will everyone be talking about on Monday?Have a look at the eight top moments in our gallery, above, then share your own thoughts on the ceremony in the comments.For a full recap of the night’s big winners, click here.During the 64th Primetime Emmy Awards, host Jimmy Kimmel urged viewers to take to Twitter and type about comedian Tracy Morgan passing out on stage, instantly sparking 25,000 tweets.\"OMG.',\n",
       " 'Tracy Morgan just passed out on stage at the #Emmys.',\n",
       " 'Turn ABC on right now.\"',\n",
       " '~ @jimmykimmel, telling viewers what to tweet.',\n",
       " '— Brian A. Hernandez (@BAHjournalist) September 24, 2012Oh my God - Tracy Morgan just passed out onstage at the Emmys - turn ABC on NOW!\"',\n",
       " \"— Jimmy Kimmel (@jimmykimmel) September 24, 2012Of course, Morgan didn't really pass out, but he did lie on the stage.\",\n",
       " 'Morgan even stayed on his back when the award for Best Writing for a Drama was announced and the Homeland winners got on stage.',\n",
       " 'Kimmel, who had teased about the prank all week, pulled the stunt to attract more viewers to tune into ABC.Within minutes, \"OMG Tracy Morgan\" was a worldwide trending topic on Twitter:And \"Omg Tracy Morgan\" is trending worldwide.',\n",
       " \"#Emmys — Brian A. Hernandez (@BAHjournalist) September 24, 2012And Twitter's TV account shared these statistics:OMG 25,000 tweets instantly thanks to OMG TRacy Morgan #Emmys — thanks @jimmykimmel !\",\n",
       " '!',\n",
       " '— Twitter TV (@twittertv) September 24, 2012Not everyone enjoyed the stunt, though, as actor Omar Epps notes:Well..',\n",
       " \"The consensus on my timeline is ya'll aren't feeling the Tracey Morgan stunt.. Point taken tweeps!\",\n",
       " \"#Emmys — OMAR EPPS (@omarepps) September 24, 2012Tracy Morgan #Emmys stunt like that #Survivor who lied about Granny's death for pity vote: got them far but big turn off if you fell for it.\",\n",
       " '— Jose m iniguez (@imJmi) September 24, 2012Photo from Twitter user @MSquareENt, GIF from Daily Dot and thumbnail from Art Streiber/NBC']"
      ]
     },
     "execution_count": 33,
     "metadata": {},
     "output_type": "execute_result"
    }
   ],
   "source": [
    "sent_tokenize(data[0][\"document\"])"
   ]
  },
  {
   "cell_type": "code",
   "execution_count": 34,
   "metadata": {},
   "outputs": [
    {
     "data": {
      "text/plain": [
       "['Like every year, the 2012 Emmy Awards had its fair mix of jaw-dropping surprises, predictable winners and off-the-cut moments.From Julia Louis-Drefyus‘ hilarious acceptance speech to Jon Cryer’s head-scratching win for Best Comedy Actor, Celebuzz has compiled a list of the best and worst moments from Sunday’s telecast.What will everyone be talking about on Monday?Have a look at the eight top moments in our gallery, above, then share your own thoughts on the ceremony in the comments.For a full recap of the night’s big winners, click here.During the 64th Primetime Emmy Awards, host Jimmy Kimmel urged viewers to take to Twitter and type about comedian Tracy Morgan passing out on stage, instantly sparking 25,000 tweets.\"OMG.',\n",
       " 'Tracy Morgan just passed out on stage at the #Emmys.',\n",
       " 'Turn ABC on right now.\"',\n",
       " '~ @jimmykimmel, telling viewers what to tweet.',\n",
       " '— Brian A. Hernandez (@BAHjournalist) September 24, 2012Oh my God - Tracy Morgan just passed out onstage at the Emmys - turn ABC on NOW!\"',\n",
       " \"— Jimmy Kimmel (@jimmykimmel) September 24, 2012Of course, Morgan didn't really pass out, but he did lie on the stage.\",\n",
       " 'Morgan even stayed on his back when the award for Best Writing for a Drama was announced and the Homeland winners got on stage.',\n",
       " 'Kimmel, who had teased about the prank all week, pulled the stunt to attract more viewers to tune into ABC.Within minutes, \"OMG Tracy Morgan\" was a worldwide trending topic on Twitter:And \"Omg Tracy Morgan\" is trending worldwide.',\n",
       " \"#Emmys — Brian A. Hernandez (@BAHjournalist) September 24, 2012And Twitter's TV account shared these statistics:OMG 25,000 tweets instantly thanks to OMG TRacy Morgan #Emmys — thanks @jimmykimmel !\",\n",
       " '— Twitter TV (@twittertv) September 24, 2012Not everyone enjoyed the stunt, though, as actor Omar Epps notes:Well..',\n",
       " \"The consensus on my timeline is ya'll aren't feeling the Tracey Morgan stunt.. Point taken tweeps!\",\n",
       " \"#Emmys — OMAR EPPS (@omarepps) September 24, 2012Tracy Morgan #Emmys stunt like that #Survivor who lied about Granny's death for pity vote: got them far but big turn off if you fell for it.\",\n",
       " '— Jose m iniguez (@imJmi) September 24, 2012Photo from Twitter user @MSquareENt, GIF from Daily Dot and thumbnail from Art Streiber/NBC']"
      ]
     },
     "execution_count": 34,
     "metadata": {},
     "output_type": "execute_result"
    }
   ],
   "source": [
    "\n",
    "sent_tokenize(preprocess_punctuation(data[0][\"document\"]))"
   ]
  },
  {
   "cell_type": "code",
   "execution_count": 28,
   "metadata": {},
   "outputs": [
    {
     "data": {
      "text/plain": [
       "['Like every year, the 2012 Emmy Awards had its fair mix of jaw-dropping surprises, predictable winners and off-the-cut moments.From Julia Louis-Drefyus‘ hilarious acceptance speech to Jon Cryer’s head-scratching win for Best Comedy Actor, Celebuzz has compiled a list of the best and worst moments from Sunday’s telecast.What will everyone be talking about on Monday?Have a look at the eight top moments in our gallery, above, then share your own thoughts on the ceremony in the comments.For a full recap of the night’s big winners, click here.During the 64th Primetime Emmy Awards, host Jimmy Kimmel urged viewers to take to Twitter and type about comedian Tracy Morgan passing out on stage, instantly sparking 25,000 tweets.\"OMG.',\n",
       " 'Tracy Morgan just passed out on stage at the #Emmys.',\n",
       " 'Turn ABC on right now.\"',\n",
       " '~ @jimmykimmel, telling viewers what to tweet.',\n",
       " '— Brian A. Hernandez (@BAHjournalist) September 24, 2012Oh my God - Tracy Morgan just passed out onstage at the Emmys - turn ABC on NOW!\"',\n",
       " \"— Jimmy Kimmel (@jimmykimmel) September 24, 2012Of course, Morgan didn't really pass out, but he did lie on the stage.\",\n",
       " 'Morgan even stayed on his back when the award for Best Writing for a Drama was announced and the Homeland winners got on stage.',\n",
       " 'Kimmel, who had teased about the prank all week, pulled the stunt to attract more viewers to tune into ABC.Within minutes, \"OMG Tracy Morgan\" was a worldwide trending topic on Twitter:And \"Omg Tracy Morgan\" is trending worldwide.',\n",
       " \"#Emmys — Brian A. Hernandez (@BAHjournalist) September 24, 2012And Twitter's TV account shared these statistics:OMG 25,000 tweets instantly thanks to OMG TRacy Morgan #Emmys — thanks @jimmykimmel !\",\n",
       " '— Twitter TV (@twittertv) September 24, 2012Not everyone enjoyed the stunt, though, as actor Omar Epps notes:Well..',\n",
       " \"The consensus on my timeline is ya'll aren't feeling the Tracey Morgan stunt.. Point taken tweeps!\",\n",
       " \"#Emmys — OMAR EPPS (@omarepps) September 24, 2012Tracy Morgan #Emmys stunt like that #Survivor who lied about Granny's death for pity vote: got them far but big turn off if you fell for it.\",\n",
       " '— Jose m iniguez (@imJmi) September 24, 2012Photo from Twitter user @MSquareENt, GIF from Daily Dot and thumbnail from Art Streiber/NBC']"
      ]
     },
     "execution_count": 28,
     "metadata": {},
     "output_type": "execute_result"
    }
   ],
   "source": [
    "data[0][\"sent\"]"
   ]
  },
  {
   "cell_type": "code",
   "execution_count": 19,
   "metadata": {},
   "outputs": [],
   "source": [
    "file_path = \"../data/1017data/train_sent.json\"\n",
    "with open(file_path, 'w', encoding='utf-8') as f:\n",
    "    json.dump(data, f, ensure_ascii=False, indent=4)"
   ]
  },
  {
   "cell_type": "code",
   "execution_count": null,
   "metadata": {},
   "outputs": [],
   "source": []
  }
 ],
 "metadata": {
  "kernelspec": {
   "display_name": ".venv",
   "language": "python",
   "name": "python3"
  },
  "language_info": {
   "codemirror_mode": {
    "name": "ipython",
    "version": 3
   },
   "file_extension": ".py",
   "mimetype": "text/x-python",
   "name": "python",
   "nbconvert_exporter": "python",
   "pygments_lexer": "ipython3",
   "version": "3.8.10"
  }
 },
 "nbformat": 4,
 "nbformat_minor": 2
}
