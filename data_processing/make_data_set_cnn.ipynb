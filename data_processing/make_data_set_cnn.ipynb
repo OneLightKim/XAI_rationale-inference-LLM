{
 "cells": [
  {
   "cell_type": "code",
   "execution_count": 1,
   "metadata": {},
   "outputs": [
    {
     "name": "stderr",
     "output_type": "stream",
     "text": [
      "/home/rbqlsquf2/workspace/XAI_rationale-inference-LLM/.venv/lib/python3.8/site-packages/tqdm/auto.py:21: TqdmWarning: IProgress not found. Please update jupyter and ipywidgets. See https://ipywidgets.readthedocs.io/en/stable/user_install.html\n",
      "  from .autonotebook import tqdm as notebook_tqdm\n"
     ]
    }
   ],
   "source": [
    "from datasets import load_dataset\n",
    "\n",
    "ds = load_dataset(\"abisee/cnn_dailymail\", \"3.0.0\")"
   ]
  },
  {
   "cell_type": "code",
   "execution_count": 2,
   "metadata": {},
   "outputs": [
    {
     "data": {
      "text/plain": [
       "\"Harry Potter star Daniel Radcliffe gets £20M fortune as he turns 18 Monday .\\nYoung actor says he has no plans to fritter his cash away .\\nRadcliffe's earnings from first five Potter films have been held in trust fund .\""
      ]
     },
     "execution_count": 2,
     "metadata": {},
     "output_type": "execute_result"
    }
   ],
   "source": [
    "ds[\"train\"][0]['highlights']"
   ]
  },
  {
   "cell_type": "code",
   "execution_count": 2,
   "metadata": {},
   "outputs": [
    {
     "name": "stderr",
     "output_type": "stream",
     "text": [
      "Loading checkpoint shards: 100%|██████████| 2/2 [00:02<00:00,  1.37s/it]\n"
     ]
    }
   ],
   "source": [
    "from transformers import AutoTokenizer, AutoModelForCausalLM\n",
    "import torch\n",
    "model_path = \"Qwen/Qwen2.5-3B-Instruct\"\n",
    "tokenizer = AutoTokenizer.from_pretrained(model_path)\n",
    "model = AutoModelForCausalLM.from_pretrained(\n",
    "    model_path,\n",
    "    device_map=\"auto\",\n",
    "    torch_dtype=torch.float16,\n",
    ")\n",
    "tokenizer.padding_side = 'left'"
   ]
  },
  {
   "cell_type": "code",
   "execution_count": 3,
   "metadata": {},
   "outputs": [],
   "source": [
    "new_special_tokens = {\"additional_special_tokens\": [\"<|mrc|>\", \"<|summary|>\"]}"
   ]
  },
  {
   "cell_type": "code",
   "execution_count": 4,
   "metadata": {},
   "outputs": [
    {
     "data": {
      "text/plain": [
       "2"
      ]
     },
     "execution_count": 4,
     "metadata": {},
     "output_type": "execute_result"
    }
   ],
   "source": [
    "tokenizer.add_special_tokens(new_special_tokens)"
   ]
  },
  {
   "cell_type": "code",
   "execution_count": 5,
   "metadata": {},
   "outputs": [
    {
     "data": {
      "text/plain": [
       "Embedding(151667, 2048)"
      ]
     },
     "execution_count": 5,
     "metadata": {},
     "output_type": "execute_result"
    }
   ],
   "source": [
    "model.resize_token_embeddings(len(tokenizer))"
   ]
  },
  {
   "cell_type": "code",
   "execution_count": 6,
   "metadata": {},
   "outputs": [
    {
     "name": "stderr",
     "output_type": "stream",
     "text": [
      "[nltk_data] Downloading package punkt_tab to\n",
      "[nltk_data]     /home/rbqlsquf2/nltk_data...\n",
      "[nltk_data]   Package punkt_tab is already up-to-date!\n"
     ]
    }
   ],
   "source": [
    "import nltk\n",
    "nltk.download('punkt_tab')  # Download the necessary tokenizer data\n",
    "from nltk.tokenize import sent_tokenize\n",
    "\n",
    "def split_into_sentences(text):\n",
    "    sentences = sent_tokenize(text)\n",
    "    return sentences\n"
   ]
  },
  {
   "cell_type": "code",
   "execution_count": 7,
   "metadata": {},
   "outputs": [
    {
     "data": {
      "text/plain": [
       "DatasetDict({\n",
       "    train: Dataset({\n",
       "        features: ['article', 'highlights', 'id'],\n",
       "        num_rows: 287113\n",
       "    })\n",
       "    validation: Dataset({\n",
       "        features: ['article', 'highlights', 'id'],\n",
       "        num_rows: 13368\n",
       "    })\n",
       "    test: Dataset({\n",
       "        features: ['article', 'highlights', 'id'],\n",
       "        num_rows: 11490\n",
       "    })\n",
       "})"
      ]
     },
     "execution_count": 7,
     "metadata": {},
     "output_type": "execute_result"
    }
   ],
   "source": [
    "ds"
   ]
  },
  {
   "cell_type": "code",
   "execution_count": 8,
   "metadata": {},
   "outputs": [],
   "source": [
    "from tqdm import tqdm\n",
    "\n",
    "def create_example(all_data):\n",
    "    all_result = []\n",
    "    for data in tqdm(all_data):\n",
    "        data_id = data[\"id\"]\n",
    "        summary = data[\"highlights\"].replace(\"\\n\", \" \")\n",
    "        context = split_into_sentences(data[\"article\"])\n",
    "        total_sentence_number = 1\n",
    "        sentences = \"\"\n",
    "        for sent in context:\n",
    "            sentence = \"[{}] {}\".format(total_sentence_number, sent) + \"\\n\"\n",
    "            sentences = sentences + sentence\n",
    "            total_sentence_number += 1\n",
    "\n",
    "        \n",
    "        sentence = sentence.rstrip(\"\\n\")\n",
    "        instruction = \"<|mrc|>False\\n<|summary|>True\"\n",
    "        prompt = (\n",
    "            \"**Document**\\n{}\".format(sentences)\n",
    "        )\n",
    "        response = \"**Answer**\\n**Summary**\\n{}\\n\".format(summary)\n",
    "        # response = \"**Answer**: {}\\n**Supporting Sentences**: {}\".format(answer, supporting_sentence)\n",
    "        messages = [\n",
    "            {\"role\": \"system\", \"content\": instruction},\n",
    "            {\"role\": \"user\", \"content\": prompt},\n",
    "            # {\"role\": \"assistant\", \"content\": response},\n",
    "        ]\n",
    "        result = {}\n",
    "        result[\"text\"] = tokenizer.apply_chat_template(messages, tokenize=False)\n",
    "\n",
    "        messages = [\n",
    "            {\"role\": \"system\", \"content\": instruction},\n",
    "            {\"role\": \"user\", \"content\": prompt},\n",
    "            {\"role\": \"assistant\", \"content\": response},\n",
    "        ]\n",
    "        result[\"all_text\"] = tokenizer.apply_chat_template(messages, tokenize=False)\n",
    "        result[\"label\"] = response\n",
    "        all_result.append(result)\n",
    "        supporting_sentence = \"\"\n",
    "        # print(model_answer)\n",
    "        # if len(all_result) ==1000:\n",
    "        #     break\n",
    "    return all_result\n",
    "    "
   ]
  },
  {
   "cell_type": "code",
   "execution_count": 9,
   "metadata": {},
   "outputs": [
    {
     "name": "stderr",
     "output_type": "stream",
     "text": [
      "100%|██████████| 13368/13368 [00:08<00:00, 1642.50it/s]\n"
     ]
    }
   ],
   "source": [
    "import json\n",
    "\n",
    "input_data = create_example(ds['validation'])"
   ]
  },
  {
   "cell_type": "code",
   "execution_count": 15,
   "metadata": {},
   "outputs": [
    {
     "name": "stdout",
     "output_type": "stream",
     "text": [
      "**Answer**\n",
      "**Summary**\n",
      "Zully Broussard decided to give a kidney to a stranger . A new computer program helped her donation spur transplants for six kidney patients .\n",
      "\n"
     ]
    }
   ],
   "source": [
    "print(input_data[0]['label'])"
   ]
  },
  {
   "cell_type": "code",
   "execution_count": 10,
   "metadata": {},
   "outputs": [],
   "source": [
    "for data in input_data:\n",
    "    data['label'] = data['label'].replace(\" .\", \".\")"
   ]
  },
  {
   "cell_type": "code",
   "execution_count": 17,
   "metadata": {},
   "outputs": [
    {
     "name": "stderr",
     "output_type": "stream",
     "text": [
      "100%|██████████| 13368/13368 [00:22<00:00, 582.69it/s]\n"
     ]
    }
   ],
   "source": [
    "from tqdm import tqdm\n",
    "all_len = []\n",
    "all_result = []\n",
    "\n",
    "for input_data_ in tqdm(input_data):\n",
    "    text = input_data_[\"text\"]\n",
    "    if len(tokenizer(text)[\"input_ids\"]) <= 2048:\n",
    "        # data[\"text\"] = data[\"text\"]\n",
    "        all_result.append(input_data_)\n",
    "    # all_len.append(len(tokenizer(text)[\"input_ids\"]))\n",
    "\n",
    "with open(\"../data/qwen_cnn_test_data.json\", \"w\", encoding=\"utf-8\") as f:\n",
    "    json.dump(all_result, f, ensure_ascii=False, indent=4)"
   ]
  },
  {
   "cell_type": "code",
   "execution_count": 11,
   "metadata": {},
   "outputs": [
    {
     "name": "stderr",
     "output_type": "stream",
     "text": [
      "100%|██████████| 11490/11490 [00:07<00:00, 1619.94it/s]\n",
      "100%|██████████| 11490/11490 [00:23<00:00, 498.68it/s]"
     ]
    },
    {
     "name": "stdout",
     "output_type": "stream",
     "text": [
      "759\n"
     ]
    },
    {
     "name": "stderr",
     "output_type": "stream",
     "text": [
      "\n"
     ]
    }
   ],
   "source": [
    "input_data = create_example(ds['test'])\n",
    "\n",
    "\n",
    "all_len = []\n",
    "all_result = []\n",
    "over_num = 0\n",
    "for input_data_ in tqdm(input_data):\n",
    "    text = input_data_[\"all_text\"]\n",
    "    count = len(tokenizer(text)[\"input_ids\"])\n",
    "    if count <= 2048:\n",
    "        all_result.append(input_data_)\n",
    "    else:\n",
    "        over_len = count - 2048\n",
    "        input_data_['text'] = input_data_['text'][:over_len]\n",
    "        over_num +=1\n",
    "    # all_len.append(len(tokenizer(text)[\"input_ids\"]))\n",
    "print(over_num)"
   ]
  },
  {
   "cell_type": "code",
   "execution_count": 13,
   "metadata": {},
   "outputs": [],
   "source": [
    "with open(\"../data/qwen_cnn_test_data.json\", \"w\", encoding=\"utf-8\") as f:\n",
    "    json.dump(all_result, f, ensure_ascii=False, indent=4)"
   ]
  },
  {
   "cell_type": "code",
   "execution_count": null,
   "metadata": {},
   "outputs": [],
   "source": []
  },
  {
   "cell_type": "code",
   "execution_count": null,
   "metadata": {},
   "outputs": [],
   "source": []
  },
  {
   "cell_type": "code",
   "execution_count": 38,
   "metadata": {},
   "outputs": [],
   "source": [
    "for result in all_result:\n",
    "    result[\"label\"] = \"assistant\\n\" + result[\"label\"]\n",
    "    "
   ]
  },
  {
   "cell_type": "code",
   "execution_count": 39,
   "metadata": {},
   "outputs": [],
   "source": [
    "with open(\"data/qwen_dev_data.json\", \"w\", encoding=\"utf-8\") as f:\n",
    "    json.dump(all_result, f, ensure_ascii=False, indent=4)"
   ]
  },
  {
   "cell_type": "code",
   "execution_count": 14,
   "metadata": {},
   "outputs": [
    {
     "name": "stderr",
     "output_type": "stream",
     "text": [
      "7405it [00:17, 426.88it/s]\n"
     ]
    }
   ],
   "source": [
    "from tqdm import tqdm\n",
    "all_len = []\n",
    "all_result = []\n",
    "\n",
    "for data, input_data_ in tqdm(zip(dev_data, input_data)):\n",
    "    text = input_data_[\"text\"]\n",
    "    if len(tokenizer(text)[\"input_ids\"]) <= 2048:\n",
    "        # data[\"text\"] = data[\"text\"]\n",
    "        all_result.append(data)\n",
    "    # all_len.append(len(tokenizer(text)[\"input_ids\"]))"
   ]
  },
  {
   "cell_type": "code",
   "execution_count": 16,
   "metadata": {},
   "outputs": [],
   "source": [
    "with open(\"data/teddst_dev.json\", \"w\", encoding=\"utf-8\") as f:\n",
    "    json.dump(input_data, f, ensure_ascii=False, indent=4)"
   ]
  },
  {
   "cell_type": "code",
   "execution_count": 7,
   "metadata": {},
   "outputs": [
    {
     "name": "stdout",
     "output_type": "stream",
     "text": [
      "**Answer**: yes\n",
      "**Supporting Sentences**: [4] Scott Derrickson (born July 16, 1966) is an American director, screenwriter and producer.\n",
      "[17] Edward Davis Wood Jr. (October 10, 1924 – December 10, 1978) was an American filmmaker, actor, writer, producer, and director.\n",
      "\n"
     ]
    }
   ],
   "source": [
    "print(input_data[0][\"label\"])"
   ]
  },
  {
   "cell_type": "code",
   "execution_count": 16,
   "metadata": {},
   "outputs": [
    {
     "name": "stdout",
     "output_type": "stream",
     "text": [
      "6539\n"
     ]
    }
   ],
   "source": [
    "count = len(list(filter(lambda x: x < 2048, all_len)))\n",
    "print(count)"
   ]
  },
  {
   "cell_type": "code",
   "execution_count": null,
   "metadata": {},
   "outputs": [],
   "source": []
  }
 ],
 "metadata": {
  "kernelspec": {
   "display_name": ".venv",
   "language": "python",
   "name": "python3"
  },
  "language_info": {
   "codemirror_mode": {
    "name": "ipython",
    "version": 3
   },
   "file_extension": ".py",
   "mimetype": "text/x-python",
   "name": "python",
   "nbconvert_exporter": "python",
   "pygments_lexer": "ipython3",
   "version": "3.8.10"
  }
 },
 "nbformat": 4,
 "nbformat_minor": 2
}
