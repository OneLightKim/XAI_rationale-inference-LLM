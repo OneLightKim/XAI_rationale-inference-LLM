{
 "cells": [
  {
   "cell_type": "code",
   "execution_count": 1,
   "metadata": {},
   "outputs": [],
   "source": [
    "import json\n",
    "file_path = \"../data/1008data/hotpot_train.json\"\n",
    "with open(file_path, 'r', encoding='utf-8') as f:\n",
    "    data = json.load(f)"
   ]
  },
  {
   "cell_type": "code",
   "execution_count": 2,
   "metadata": {},
   "outputs": [],
   "source": [
    "import random\n",
    "random.seed(42)\n",
    "\n",
    "random.shuffle(data)"
   ]
  },
  {
   "cell_type": "code",
   "execution_count": 3,
   "metadata": {},
   "outputs": [],
   "source": [
    "import copy\n",
    "data_2 = copy.deepcopy(data[:15000])"
   ]
  },
  {
   "cell_type": "code",
   "execution_count": 4,
   "metadata": {},
   "outputs": [],
   "source": [
    "all_result = []\n",
    "quetion_list = []\n",
    "for d in data[:15000]:\n",
    "    quetion_list.append(d[\"question\"])\n",
    "    d[\"answer_type\"] = \"T\"\n",
    "    d[\"mrc_type\"] = \"T\"\n",
    "    d[\"sum_type\"] = \"F\"\n",
    "    all_result.append(d)"
   ]
  },
  {
   "cell_type": "code",
   "execution_count": 5,
   "metadata": {},
   "outputs": [],
   "source": [
    "for d in data_2[:5000]:\n",
    "    d[\"answer_type\"] = \"F\"\n",
    "    d[\"mrc_type\"] = \"F\"\n",
    "    d[\"sum_type\"] = \"F\"\n",
    "    d[\"_id\"] = d[\"_id\"] + \"_q_ff\"\n",
    "    all_result.append(d)"
   ]
  },
  {
   "cell_type": "code",
   "execution_count": 6,
   "metadata": {},
   "outputs": [],
   "source": [
    "for d in data_2[5000:10000]:\n",
    "    d[\"answer_type\"] = \"F\"\n",
    "    d[\"mrc_type\"] = \"F\"\n",
    "    d[\"sum_type\"] = \"F\"\n",
    "    d[\"question\"] = \"no\"\n",
    "    d[\"_id\"] = d[\"_id\"] + \"_no_q_ff\"\n",
    "    all_result.append(d)"
   ]
  },
  {
   "cell_type": "code",
   "execution_count": 28,
   "metadata": {},
   "outputs": [],
   "source": [
    "for d in data_2[10000:15000]:\n",
    "    d[\"answer_type\"] = \"F\"\n",
    "    d[\"mrc_type\"] = \"T\"\n",
    "    d[\"sum_type\"] = \"F\"\n",
    "    d[\"question\"] = \"no\"\n",
    "    d[\"_id\"] = d[\"_id\"] + \"_no_q_tf\"\n",
    "    all_result.append(d)"
   ]
  },
  {
   "cell_type": "code",
   "execution_count": 30,
   "metadata": {},
   "outputs": [],
   "source": [
    "file_path = \"../data/1010data/hotpot.json\"\n",
    "with open(file_path, 'w', encoding='utf-8') as f:\n",
    "    json.dump(all_result, f, ensure_ascii=False, indent=4)"
   ]
  },
  {
   "cell_type": "code",
   "execution_count": 33,
   "metadata": {},
   "outputs": [
    {
     "data": {
      "text/plain": [
       "'German Hound and Samoyed are both what?'"
      ]
     },
     "execution_count": 33,
     "metadata": {},
     "output_type": "execute_result"
    }
   ],
   "source": [
    "quetion_list[0]"
   ]
  },
  {
   "cell_type": "code",
   "execution_count": 42,
   "metadata": {},
   "outputs": [],
   "source": [
    "file_path = \"../data/1008data/multi_news_train.json\"\n",
    "with open(file_path, 'r', encoding='utf-8') as f:\n",
    "    data = json.load(f)"
   ]
  },
  {
   "cell_type": "code",
   "execution_count": 43,
   "metadata": {},
   "outputs": [],
   "source": [
    "random.seed(42)\n",
    "\n",
    "random.shuffle(data)"
   ]
  },
  {
   "cell_type": "code",
   "execution_count": 44,
   "metadata": {},
   "outputs": [],
   "source": [
    "all_result = []"
   ]
  },
  {
   "cell_type": "code",
   "execution_count": 45,
   "metadata": {},
   "outputs": [],
   "source": [
    "import copy\n",
    "data_2 = copy.deepcopy(data[:15000])"
   ]
  },
  {
   "cell_type": "code",
   "execution_count": 46,
   "metadata": {},
   "outputs": [],
   "source": [
    "for d in data[:15000]:\n",
    "    d[\"answer_type\"] = \"T\"\n",
    "    d[\"mrc_type\"] = \"F\"\n",
    "    d[\"sum_type\"] = \"T\"\n",
    "    all_result.append(d)"
   ]
  },
  {
   "cell_type": "code",
   "execution_count": 47,
   "metadata": {},
   "outputs": [],
   "source": [
    "for d in data_2[:5000]:\n",
    "    d[\"answer_type\"] = \"F\"\n",
    "    d[\"mrc_type\"] = \"F\"\n",
    "    d[\"sum_type\"] = \"F\"\n",
    "    d[\"_id\"] = str(d[\"_id\"]) + \"_ff\"\n",
    "    all_result.append(d)"
   ]
  },
  {
   "cell_type": "code",
   "execution_count": 48,
   "metadata": {},
   "outputs": [],
   "source": [
    "for i, d in enumerate(data_2[5000:10000]):\n",
    "    d[\"answer_type\"] = \"T\"\n",
    "    d[\"mrc_type\"] = \"F\"\n",
    "    d[\"sum_type\"] = \"T\"\n",
    "    d[\"question\"] = quetion_list[i]\n",
    "    d[\"_id\"] = str(d[\"_id\"]) + \"_ft\"\n",
    "    all_result.append(d)"
   ]
  },
  {
   "cell_type": "code",
   "execution_count": 49,
   "metadata": {},
   "outputs": [],
   "source": [
    "for d in data_2[10000:15000]:\n",
    "    d[\"answer_type\"] = \"T\"\n",
    "    d[\"mrc_type\"] = \"T\"\n",
    "    d[\"sum_type\"] = \"T\"\n",
    "    d[\"_id\"] = str(d[\"_id\"]) + \"_tt\"\n",
    "    all_result.append(d)"
   ]
  },
  {
   "cell_type": "code",
   "execution_count": 50,
   "metadata": {},
   "outputs": [
    {
     "data": {
      "text/plain": [
       "30000"
      ]
     },
     "execution_count": 50,
     "metadata": {},
     "output_type": "execute_result"
    }
   ],
   "source": [
    "len(all_result)"
   ]
  },
  {
   "cell_type": "code",
   "execution_count": 51,
   "metadata": {},
   "outputs": [],
   "source": [
    "file_path = \"../data/1010data/multi_news.json\"\n",
    "with open(file_path, 'w', encoding='utf-8') as f:\n",
    "    json.dump(all_result, f, ensure_ascii=False, indent=4)"
   ]
  },
  {
   "cell_type": "code",
   "execution_count": 52,
   "metadata": {},
   "outputs": [],
   "source": [
    "import json\n",
    "import random\n",
    "file_path = \"../data/1008data/wikisum_train.json\"\n",
    "with open(file_path, 'r', encoding='utf-8') as f:\n",
    "    data = json.load(f)"
   ]
  },
  {
   "cell_type": "code",
   "execution_count": 53,
   "metadata": {},
   "outputs": [],
   "source": [
    "random.seed(42)\n",
    "\n",
    "random.shuffle(data)"
   ]
  },
  {
   "cell_type": "code",
   "execution_count": 55,
   "metadata": {},
   "outputs": [],
   "source": [
    "import copy\n",
    "data_2 = copy.deepcopy(data[:15000])"
   ]
  },
  {
   "cell_type": "code",
   "execution_count": 56,
   "metadata": {},
   "outputs": [],
   "source": [
    "all_result = []\n",
    "for d in data[:15000]:\n",
    "    d[\"answer_type\"] = \"T\"\n",
    "    d[\"mrc_type\"] = \"F\"\n",
    "    d[\"sum_type\"] = \"T\"\n",
    "    all_result.append(d)"
   ]
  },
  {
   "cell_type": "code",
   "execution_count": 57,
   "metadata": {},
   "outputs": [],
   "source": [
    "for d in data_2[:5000]:\n",
    "    d[\"answer_type\"] = \"F\"\n",
    "    d[\"mrc_type\"] = \"F\"\n",
    "    d[\"sum_type\"] = \"F\"\n",
    "    d[\"_id\"] = str(d[\"_id\"]) + \"_ff\"\n",
    "    all_result.append(d)"
   ]
  },
  {
   "cell_type": "code",
   "execution_count": 61,
   "metadata": {},
   "outputs": [
    {
     "data": {
      "text/plain": [
       "30000"
      ]
     },
     "execution_count": 61,
     "metadata": {},
     "output_type": "execute_result"
    }
   ],
   "source": [
    "len(all_result)"
   ]
  },
  {
   "cell_type": "code",
   "execution_count": 59,
   "metadata": {},
   "outputs": [],
   "source": [
    "for i, d in enumerate(data_2[5000:10000]):\n",
    "    d[\"answer_type\"] = \"T\"\n",
    "    d[\"mrc_type\"] = \"F\"\n",
    "    d[\"sum_type\"] = \"T\"\n",
    "    d[\"question\"] = quetion_list[i]\n",
    "    d[\"_id\"] = str(d[\"_id\"]) + \"_ft\"\n",
    "    all_result.append(d)"
   ]
  },
  {
   "cell_type": "code",
   "execution_count": 60,
   "metadata": {},
   "outputs": [],
   "source": [
    "for d in data_2[10000:15000]:\n",
    "    d[\"answer_type\"] = \"T\"\n",
    "    d[\"mrc_type\"] = \"T\"\n",
    "    d[\"sum_type\"] = \"T\"\n",
    "    d[\"_id\"] = str(d[\"_id\"]) + \"_tt\"\n",
    "    all_result.append(d)"
   ]
  },
  {
   "cell_type": "code",
   "execution_count": 62,
   "metadata": {},
   "outputs": [],
   "source": [
    "file_path = \"../data/1010data/wiki_sum.json\"\n",
    "with open(file_path, 'w', encoding='utf-8') as f:\n",
    "    json.dump(all_result, f, ensure_ascii=False, indent=4)"
   ]
  },
  {
   "cell_type": "code",
   "execution_count": 1,
   "metadata": {},
   "outputs": [],
   "source": [
    "import json\n",
    "all_result = []\n",
    "file_path = \"../data/1010data/hotpot.json\"\n",
    "with open(file_path, 'r', encoding='utf-8') as f:\n",
    "    data = json.load(f)\n"
   ]
  },
  {
   "cell_type": "code",
   "execution_count": 2,
   "metadata": {},
   "outputs": [],
   "source": [
    "for d in data:\n",
    "    d[\"data_type\"] = \"answer\"\n",
    "    d[\"_id\"] = str(d[\"_id\"])\n",
    "    all_result.append(d)"
   ]
  },
  {
   "cell_type": "code",
   "execution_count": 3,
   "metadata": {},
   "outputs": [],
   "source": [
    "file_path = \"../data/1010data/multi_news.json\"\n",
    "with open(file_path, 'r', encoding='utf-8') as f:\n",
    "    data = json.load(f)\n",
    "for d in data:\n",
    "    d[\"data_type\"] = \"summary\"\n",
    "    d[\"_id\"] = str(d[\"_id\"])\n",
    "    all_result.append(d)"
   ]
  },
  {
   "cell_type": "code",
   "execution_count": 4,
   "metadata": {},
   "outputs": [],
   "source": [
    "file_path = \"../data/1010data/wiki_sum.json\"\n",
    "with open(file_path, 'r', encoding='utf-8') as f:\n",
    "    data = json.load(f)\n",
    "for d in data:\n",
    "    d[\"data_type\"] = \"summary\"\n",
    "    d[\"_id\"] = str(d[\"_id\"])\n",
    "    all_result.append(d)"
   ]
  },
  {
   "cell_type": "code",
   "execution_count": 5,
   "metadata": {},
   "outputs": [],
   "source": [
    "import random\n",
    "random.seed(100)\n",
    "\n",
    "random.shuffle(all_result)"
   ]
  },
  {
   "cell_type": "code",
   "execution_count": 6,
   "metadata": {},
   "outputs": [],
   "source": [
    "with open(\"../data/1010data/train_data_1011.json\", 'w', encoding='utf-8') as f:\n",
    "    json.dump(all_result, f, ensure_ascii=False, indent=4)"
   ]
  },
  {
   "cell_type": "code",
   "execution_count": 9,
   "metadata": {},
   "outputs": [
    {
     "data": {
      "text/plain": [
       "90000"
      ]
     },
     "execution_count": 9,
     "metadata": {},
     "output_type": "execute_result"
    }
   ],
   "source": [
    "len(all_result)"
   ]
  },
  {
   "cell_type": "code",
   "execution_count": null,
   "metadata": {},
   "outputs": [],
   "source": []
  }
 ],
 "metadata": {
  "kernelspec": {
   "display_name": ".venv",
   "language": "python",
   "name": "python3"
  },
  "language_info": {
   "codemirror_mode": {
    "name": "ipython",
    "version": 3
   },
   "file_extension": ".py",
   "mimetype": "text/x-python",
   "name": "python",
   "nbconvert_exporter": "python",
   "pygments_lexer": "ipython3",
   "version": "3.8.10"
  }
 },
 "nbformat": 4,
 "nbformat_minor": 2
}
