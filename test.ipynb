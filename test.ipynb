{
 "cells": [
  {
   "cell_type": "code",
   "execution_count": 3,
   "metadata": {},
   "outputs": [],
   "source": [
    "import json\n",
    "file_path = \"data/1020data/train_hotpot_cnn_1022.json\"\n",
    "with open(file_path, 'r', encoding='utf-8') as f:\n",
    "    json = json.load(f)"
   ]
  },
  {
   "cell_type": "code",
   "execution_count": 4,
   "metadata": {},
   "outputs": [],
   "source": [
    "\n",
    "def process_func(example, tokenizer):\n",
    "    MAX_LENGTH = 2048\n",
    "    input_ids, attention_mask, labels = [], [], []\n",
    "    mrc_value = -1\n",
    "    sum_value = -1\n",
    "    if example[\"mrc_type\"] == \"T\":\n",
    "        mrc_value = \"True\"\n",
    "    else:\n",
    "        mrc_value = \"False\"\n",
    "    if example[\"sum_type\"] == \"T\":\n",
    "        sum_value = \"True\"\n",
    "    else:\n",
    "        sum_value = \"False\"\n",
    "\n",
    "    task_instruction = \"Only fill in the **Answer to the **Question based on the **Document if <|MRC|> is True. Do not fill in the **Answer if the Question is not provided or if <|MRC|> is False. Only fill in the **Summary with a summary of the **Document if <|SUM|> is True. Do not fill in the **Summary if <|SUM|> is False.\"\n",
    "    example[\"document\"] = example[\"document\"].strip()\n",
    "    # token 된 doc\n",
    "    token_doc = {\"input_ids\": [], \"attention_mask\": []}\n",
    "    # document 문장 index\n",
    "    sentence_number = 0\n",
    "    sentence_position = []\n",
    "    for i, sent in enumerate(example[\"sent\"]):\n",
    "        # 0번 문장은 instruction으로 지정할 계획\n",
    "        sent = sent.strip()\n",
    "        token_sent = tokenizer(sent + \" \", add_special_tokens=False)\n",
    "        sentence_number += 1  # 1부터 시작\n",
    "        sentence_position.extend([sentence_number] * len(token_sent[\"input_ids\"]))\n",
    "        token_doc[\"input_ids\"] += token_sent[\"input_ids\"]\n",
    "        token_doc[\"attention_mask\"] += token_sent[\"attention_mask\"]\n",
    "    token_end = tokenizer(\"<|im_end|>\\n\", add_special_tokens=False)\n",
    "    sentence_position.extend([0] * len(token_end))\n",
    "    token_doc[\"input_ids\"] += token_end[\"input_ids\"]\n",
    "    token_doc[\"attention_mask\"] += token_end[\"attention_mask\"]\n",
    "\n",
    "    ########################################################################################################################\n",
    "    #           전처리 형태 바꾸기\n",
    "    ########################################################################################################################\n",
    "    if example[\"data_type\"] == \"answer\":\n",
    "        if example[\"answer_type\"] == \"F\":\n",
    "            if example[\"question\"] == \"no\":  # 질문이 없는 경우\n",
    "                instruction = tokenizer(\n",
    "                    f\"<|im_start|>system\\n{task_instruction}\\n<|MRC|>{mrc_value}<|SUM|>{sum_value}<|im_end|>\\n<|im_start|>user\\n**Document:\\n\",\n",
    "                    add_special_tokens=False,\n",
    "                )\n",
    "            else:\n",
    "                instruction = tokenizer(\n",
    "                    f\"<|im_start|>system\\n{task_instruction}\\n<|MRC|>{mrc_value}<|SUM|>{sum_value}<|im_end|>\\n<|im_start|>user\\n**Question:{example['question']}\\n**Document:\\n\",\n",
    "                    add_special_tokens=False,\n",
    "                )\n",
    "            response = tokenizer(\n",
    "                f\"<|im_start|>assistant\\n**Answer:\\n**Summary:\\n<|im_end|>\\n\", add_special_tokens=False\n",
    "            )\n",
    "        else:  # 답 해야하는 경우 질문은 무조건 있음\n",
    "            instruction = tokenizer(\n",
    "                f\"<|im_start|>system\\n{task_instruction}\\n<|MRC|>{mrc_value}<|SUM|>{sum_value}<|im_end|>\\n<|im_start|>user\\n**Question:{example['question']}\\n**Document:\\n\",\n",
    "                add_special_tokens=False,\n",
    "            )\n",
    "            response = tokenizer(\n",
    "                f\"<|im_start|>assistant\\n**Answer:{example['output'].strip()}\\n**Summary:\\n<|im_end|>\\n\",\n",
    "                add_special_tokens=False,\n",
    "            )\n",
    "    elif example[\"data_type\"] == \"summary\":\n",
    "        if example[\"answer_type\"] == \"F\":  # 무응답의 경우 질문이 무조건 없음\n",
    "            instruction = tokenizer(\n",
    "                f\"<|im_start|>system\\n{task_instruction}\\n<|MRC|>{mrc_value}<|SUM|>{sum_value}<|im_end|>\\n<|im_start|>user\\n**Document:\\n\",\n",
    "                add_special_tokens=False,\n",
    "            )\n",
    "            response = tokenizer(\n",
    "                f\"<|im_start|>assistant\\n**Answer:\\n**Summary:\\n<|im_end|>\\n\", add_special_tokens=False\n",
    "            )\n",
    "        else:  # 답 해야하는 경우 질문 유무\n",
    "            if example[\"question\"] == \"summary\":  # 질문이 없는 경우\n",
    "                instruction = tokenizer(\n",
    "                    f\"<|im_start|>system\\n{task_instruction}\\n<|MRC|>{mrc_value}<|SUM|>{sum_value}<|im_end|>\\n<|im_start|>user\\n**Document:\\n{example['document']}<|im_end|>\\n\",\n",
    "                    add_special_tokens=False,\n",
    "                )\n",
    "            else:\n",
    "                instruction = tokenizer(\n",
    "                    f\"<|im_start|>system\\n{task_instruction}\\n<|MRC|>{mrc_value}<|SUM|>{sum_value}<|im_end|>\\n<|im_start|>user\\n**Question:{example['question']}\\n**Document:\\n{example['document']}<|im_end|>\\n\",\n",
    "                    add_special_tokens=False,\n",
    "                )\n",
    "            response = tokenizer(\n",
    "                f\"<|im_start|>assistant\\n**Answer:\\n**Summary:{example['output'].strip()}\\n<|im_end|>\\n\",\n",
    "                add_special_tokens=False,\n",
    "            )\n",
    "\n",
    "\n",
    "    # instruction에 대한 문장 번호\n",
    "    sentence_position = [0] * len(instruction[\"input_ids\"]) + sentence_position\n",
    "    sentence_position.extend([0] * len(response[\"input_ids\"]))\n",
    "    input_ids = instruction[\"input_ids\"] + token_doc[\"input_ids\"] + response[\"input_ids\"]\n",
    "    attention_mask = instruction[\"attention_mask\"] + token_doc[\"attention_mask\"] + response[\"attention_mask\"]\n",
    "    if len(instruction[\"input_ids\"] + token_doc[\"input_ids\"]) >= MAX_LENGTH:\n",
    "        return 0\n",
    "    labels = [IGNORE_INDEX] * len(instruction[\"input_ids\"] + token_doc[\"input_ids\"]) + response[\"input_ids\"]\n",
    "    assert len(input_ids) == len(sentence_position) == len(attention_mask) == len(labels)\n",
    "\n",
    "    if len(input_ids) > MAX_LENGTH:\n",
    "        sentence_position = sentence_position[:MAX_LENGTH]\n",
    "        input_ids = input_ids[:MAX_LENGTH]\n",
    "        attention_mask = attention_mask[:MAX_LENGTH]\n",
    "        labels = labels[:MAX_LENGTH]\n",
    "    return 1\n"
   ]
  },
  {
   "cell_type": "code",
   "execution_count": 7,
   "metadata": {},
   "outputs": [
    {
     "name": "stderr",
     "output_type": "stream",
     "text": [
      "/home/rbqlsquf2/workspace/XAI_rationale-inference-LLM/.venv/lib/python3.8/site-packages/tqdm/auto.py:21: TqdmWarning: IProgress not found. Please update jupyter and ipywidgets. See https://ipywidgets.readthedocs.io/en/stable/user_install.html\n",
      "  from .autonotebook import tqdm as notebook_tqdm\n"
     ]
    }
   ],
   "source": [
    "from transformers import (\n",
    "    AutoTokenizer,\n",
    "    AutoModelForCausalLM,\n",
    "    AutoConfig,\n",
    "    DataCollatorForSeq2Seq,\n",
    "    TrainingArguments,\n",
    "    Trainer,\n",
    ")\n",
    "tokenizer = AutoTokenizer.from_pretrained(\"Qwen/Qwen2.5-3B-Instruct\")"
   ]
  },
  {
   "cell_type": "code",
   "execution_count": 12,
   "metadata": {},
   "outputs": [
    {
     "name": "stderr",
     "output_type": "stream",
     "text": [
      "100%|██████████| 60000/60000 [03:58<00:00, 251.89it/s]\n"
     ]
    }
   ],
   "source": [
    "from tqdm import tqdm\n",
    "all_result = []\n",
    "IGNORE_INDEX = -100\n",
    "for data in tqdm(json):\n",
    "    a = process_func(data, tokenizer)\n",
    "    if a == 1:\n",
    "        all_result.append(data)\n"
   ]
  },
  {
   "cell_type": "code",
   "execution_count": 13,
   "metadata": {},
   "outputs": [
    {
     "data": {
      "text/plain": [
       "52699"
      ]
     },
     "execution_count": 13,
     "metadata": {},
     "output_type": "execute_result"
    }
   ],
   "source": [
    "len(all_result)"
   ]
  },
  {
   "cell_type": "code",
   "execution_count": 17,
   "metadata": {},
   "outputs": [],
   "source": [
    "import json\n",
    "file_path = \"data/1020data/train_hotpot_cnn_filtered.json\"\n",
    "with open(file_path, 'w', encoding='utf-8') as f:\n",
    "    json.dump(all_result, f, ensure_ascii=False, indent=4)"
   ]
  },
  {
   "cell_type": "code",
   "execution_count": 16,
   "metadata": {},
   "outputs": [
    {
     "data": {
      "text/plain": [
       "{'_id': '5ab8c49a5542991b5579effe',\n",
       " 'question': 'Who did the runner up of the 2012 Eurocup Formula Renault 2.0 replace as driver of the Toro Rosso STR9?',\n",
       " 'document': '2016 Eurocup Formula Renault 2.0. The 2016 Eurocup Formula Renault 2.0 is a multi-event motor racing championship for open wheel, formula racing cars held across Europe. The championship features drivers competing in 2 litre Formula Renault single seat race cars that conform to the technical regulations for the championship. The 2016 season is the 26th Eurocup Formula Renault 2.0 season organized by the Renault Sport and the first season as the main category of the World Series by Renault. The season began at Ciudad del Motor de Aragón on 16 April and finishes on 23 October at Autódromo do Estoril. The series formes part of the World Series by Renault meetings at six events. 2017 Eurocup Formula Renault 2.0. The 2017 Eurocup Formula Renault 2.0 is a multi-event motor racing championship for open wheel, formula racing cars held across Europe. The championship features drivers competing in 2 litre Formula Renault single seat race cars that conform to the technical regulations for the championship. The 2017 season is the 27th Eurocup Formula Renault 2.0 season organized by the Renault Sport and the second season as the main category of the World Series by Renault. The series will visit ten circuits around the Europe, including Monaco. 2018 Eurocup Formula Renault 2.0. The 2018 Eurocup Formula Renault 2.0 is a multi-event motor racing championship for open wheel, formula racing cars held across Europe. The championship features drivers competing in 2 litre Formula Renault single seat race cars that conform to the technical regulations for the championship. The 2018 season is the 28th Eurocup Formula Renault 2.0 season organized by the Renault Sport and the third season as the main category of the World Series by Renault. The series will visit ten circuits around the Europe, including Monaco. 2015 Eurocup Formula Renault 2.0. The 2015 Eurocup Formula Renault 2.0 season was a multi-event motor racing championship for open wheel, formula racing cars held across Europe. The championship featured drivers competing in 2 litre Formula Renault single seat race cars that conform to the technical regulations for the championship. The 2015 season was the 25th Eurocup Formula Renault 2.0 season organized by Renault Sport. The season began at Ciudad del Motor de Aragón on 25 April and finished on 18 October at Circuito de Jerez. The series formed part of the World Series by Renault meetings, with seventeen races at seven race meetings. The championship was won by British driver Jack Aitken. 2012 Eurocup Formula Renault 2.0. The 2012 Eurocup Formula Renault 2.0 season was the 22nd Eurocup Formula Renault 2.0 season. The season commenced on 5 May at Alcañiz and ended on 21 October at Barcelona. The season featured seven double-header rounds, with each race lasting for a duration of 30 minutes. All races were part of the World Series by Renault. 2009 Eurocup Formula Renault 2.0. The 2009 Eurocup Formula Renault 2.0 season was the nineteenth Eurocup Formula Renault 2.0 season. The season began at Circuit de Catalunya on April 18 and finished at the Ciudad del Motor de Aragón on October 25, after fourteen rounds. This season was the last for the current specification Tatuus chassis. A new chassis will be introduced for the 2010 Eurocup Formula Renault 2.0 season. Albert Costa won the title holding off the challenges of Jean-Éric Vergne and António Félix da Costa, who finished tied on points, with Vergne finishing second on a tie-breaker. 2013 Eurocup Formula Renault 2.0. The 2013 Eurocup Formula Renault 2.0 season was a multi-event motor racing championship for open wheel, formula racing cars held across Europe. The championship features drivers competing in 2 litre Formula Renault single seat race cars that conform to the technical regulations for the championship. The 2013 season is the 23rd Eurocup Formula Renault 2.0 season organized by the Renault Sport and the first season with the new generation car. The season began at Ciudad del Motor de Aragón on 27 April and finished on 20 October at Circuit de Barcelona-Catalunya. The series formed part of the World Series by Renault meetings at seven double header events. Daniil Kvyat. Daniil Vyacheslavovich Kvyat (Russian: Дании́л Вячесла́вович Квят ; ] , born 26 April 1994) is a Russian auto racing driver. He was runner-up at the 2012 Eurocup Formula Renault 2.0, and GP3 Series champion in 2013. He joined Formula One as a Toro Rosso driver in 2014 finishing 15th in the World Championship. He then moved on to Red Bull Racing to partner Daniel Ricciardo for the 2015 season. He scored his first Formula One podium finish at the Hungarian Grand Prix on 26 July 2015, finishing second behind Sebastian Vettel. He returned to Toro Rosso ahead of the 2016 Spanish Grand Prix. Matthieu Vaxivière. Matthieu Vaxivière is a French racing driver. He was born on 3 December 1994 in Limoges, France. He was the 2011 French F4 champion. In 2012 he raced in the V de V Endurance Cup, French GT, and 2e Grand Prix Èlectrique. In addition, he was 14th in the 2012 Formula Renault 2.0 Alps season and 29th in the Formula Renault 2.0 Eurocup, driving for Tech 1 Racing. In 2013 he finished 10th in the Formula Renault 2.0 Eurocup and 18th in the Formula Renault 2.0 Alps. In 2014 he was assigned as one of the drivers for the Lotus F1 Junior team, while competing in the Formula Renault 3.5 series alongside Filipino-Swiss driver Marlon Stöckinger. Toro Rosso STR9. The Toro Rosso STR9 is a Formula One racing car designed by Scuderia Toro Rosso to compete in the 2014 Formula One season. It was driven by Jean-Éric Vergne and 2013 GP3 Series champion Daniil Kvyat, who replaced Daniel Ricciardo after Ricciardo moved to Red Bull Racing. The STR9 was the first Toro Rosso car to use an engine built by Renault, the Energy F1-2014.',\n",
       " 'sent': ['2016 Eurocup Formula Renault 2.0.',\n",
       "  'The 2016 Eurocup Formula Renault 2.0 is a multi-event motor racing championship for open wheel, formula racing cars held across Europe.',\n",
       "  'The championship features drivers competing in 2 litre Formula Renault single seat race cars that conform to the technical regulations for the championship.',\n",
       "  'The 2016 season is the 26th Eurocup Formula Renault 2.0 season organized by the Renault Sport and the first season as the main category of the World Series by Renault.',\n",
       "  'The season began at Ciudad del Motor de Aragón on 16 April and finishes on 23 October at Autódromo do Estoril.',\n",
       "  'The series formes part of the World Series by Renault meetings at six events.',\n",
       "  '2017 Eurocup Formula Renault 2.0.',\n",
       "  'The 2017 Eurocup Formula Renault 2.0 is a multi-event motor racing championship for open wheel, formula racing cars held across Europe.',\n",
       "  'The championship features drivers competing in 2 litre Formula Renault single seat race cars that conform to the technical regulations for the championship.',\n",
       "  'The 2017 season is the 27th Eurocup Formula Renault 2.0 season organized by the Renault Sport and the second season as the main category of the World Series by Renault.',\n",
       "  'The series will visit ten circuits around the Europe, including Monaco.',\n",
       "  '2018 Eurocup Formula Renault 2.0.',\n",
       "  'The 2018 Eurocup Formula Renault 2.0 is a multi-event motor racing championship for open wheel, formula racing cars held across Europe.',\n",
       "  'The championship features drivers competing in 2 litre Formula Renault single seat race cars that conform to the technical regulations for the championship.',\n",
       "  'The 2018 season is the 28th Eurocup Formula Renault 2.0 season organized by the Renault Sport and the third season as the main category of the World Series by Renault.',\n",
       "  'The series will visit ten circuits around the Europe, including Monaco.',\n",
       "  '2015 Eurocup Formula Renault 2.0.',\n",
       "  'The 2015 Eurocup Formula Renault 2.0 season was a multi-event motor racing championship for open wheel, formula racing cars held across Europe.',\n",
       "  'The championship featured drivers competing in 2 litre Formula Renault single seat race cars that conform to the technical regulations for the championship.',\n",
       "  'The 2015 season was the 25th Eurocup Formula Renault 2.0 season organized by Renault Sport.',\n",
       "  'The season began at Ciudad del Motor de Aragón on 25 April and finished on 18 October at Circuito de Jerez.',\n",
       "  'The series formed part of the World Series by Renault meetings, with seventeen races at seven race meetings.',\n",
       "  'The championship was won by British driver Jack Aitken.',\n",
       "  '2012 Eurocup Formula Renault 2.0.',\n",
       "  'The 2012 Eurocup Formula Renault 2.0 season was the 22nd Eurocup Formula Renault 2.0 season.',\n",
       "  'The season commenced on 5 May at Alcañiz and ended on 21 October at Barcelona.',\n",
       "  'The season featured seven double-header rounds, with each race lasting for a duration of 30 minutes.',\n",
       "  'All races were part of the World Series by Renault.',\n",
       "  '2009 Eurocup Formula Renault 2.0.',\n",
       "  'The 2009 Eurocup Formula Renault 2.0 season was the nineteenth Eurocup Formula Renault 2.0 season.',\n",
       "  'The season began at Circuit de Catalunya on April 18 and finished at the Ciudad del Motor de Aragón on October 25, after fourteen rounds.',\n",
       "  'This season was the last for the current specification Tatuus chassis.',\n",
       "  'A new chassis will be introduced for the 2010 Eurocup Formula Renault 2.0 season.',\n",
       "  'Albert Costa won the title holding off the challenges of Jean-Éric Vergne and António Félix da Costa, who finished tied on points, with Vergne finishing second on a tie-breaker.',\n",
       "  '2013 Eurocup Formula Renault 2.0.',\n",
       "  'The 2013 Eurocup Formula Renault 2.0 season was a multi-event motor racing championship for open wheel, formula racing cars held across Europe.',\n",
       "  'The championship features drivers competing in 2 litre Formula Renault single seat race cars that conform to the technical regulations for the championship.',\n",
       "  'The 2013 season is the 23rd Eurocup Formula Renault 2.0 season organized by the Renault Sport and the first season with the new generation car.',\n",
       "  'The season began at Ciudad del Motor de Aragón on 27 April and finished on 20 October at Circuit de Barcelona-Catalunya.',\n",
       "  'The series formed part of the World Series by Renault meetings at seven double header events.',\n",
       "  'Daniil Kvyat.',\n",
       "  'Daniil Vyacheslavovich Kvyat (Russian: Дании́л Вячесла́вович Квят ; ] , born 26 April 1994) is a Russian auto racing driver.',\n",
       "  'He was runner-up at the 2012 Eurocup Formula Renault 2.0, and GP3 Series champion in 2013.',\n",
       "  'He joined Formula One as a Toro Rosso driver in 2014 finishing 15th in the World Championship.',\n",
       "  'He then moved on to Red Bull Racing to partner Daniel Ricciardo for the 2015 season.',\n",
       "  'He scored his first Formula One podium finish at the Hungarian Grand Prix on 26 July 2015, finishing second behind Sebastian Vettel.',\n",
       "  'He returned to Toro Rosso ahead of the 2016 Spanish Grand Prix.',\n",
       "  'Matthieu Vaxivière.',\n",
       "  'Matthieu Vaxivière is a French racing driver.',\n",
       "  'He was born on 3 December 1994 in Limoges, France.',\n",
       "  'He was the 2011 French F4 champion.',\n",
       "  'In 2012 he raced in the V de V Endurance Cup, French GT, and 2e Grand Prix Èlectrique.',\n",
       "  'In addition, he was 14th in the 2012 Formula Renault 2.0 Alps season and 29th in the Formula Renault 2.0 Eurocup, driving for Tech 1 Racing.',\n",
       "  'In 2013 he finished 10th in the Formula Renault 2.0 Eurocup and 18th in the Formula Renault 2.0 Alps.',\n",
       "  'In 2014 he was assigned as one of the drivers for the Lotus F1 Junior team, while competing in the Formula Renault 3.5 series alongside Filipino-Swiss driver Marlon Stöckinger.',\n",
       "  'Toro Rosso STR9.',\n",
       "  'The Toro Rosso STR9 is a Formula One racing car designed by Scuderia Toro Rosso to compete in the 2014 Formula One season.',\n",
       "  'It was driven by Jean-Éric Vergne and 2013 GP3 Series champion Daniil Kvyat, who replaced Daniel Ricciardo after Ricciardo moved to Red Bull Racing.',\n",
       "  'The STR9 was the first Toro Rosso car to use an engine built by Renault, the Energy F1-2014.'],\n",
       " 'output': 'Daniel Ricciardo',\n",
       " 'answer_type': 'T',\n",
       " 'mrc_type': 'T',\n",
       " 'sum_type': 'F',\n",
       " 'data_type': 'answer'}"
      ]
     },
     "execution_count": 16,
     "metadata": {},
     "output_type": "execute_result"
    }
   ],
   "source": [
    "all_result[0]"
   ]
  },
  {
   "cell_type": "code",
   "execution_count": null,
   "metadata": {},
   "outputs": [],
   "source": []
  }
 ],
 "metadata": {
  "kernelspec": {
   "display_name": ".venv",
   "language": "python",
   "name": "python3"
  },
  "language_info": {
   "codemirror_mode": {
    "name": "ipython",
    "version": 3
   },
   "file_extension": ".py",
   "mimetype": "text/x-python",
   "name": "python",
   "nbconvert_exporter": "python",
   "pygments_lexer": "ipython3",
   "version": "3.8.10"
  }
 },
 "nbformat": 4,
 "nbformat_minor": 2
}
