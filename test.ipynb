{
 "cells": [
  {
   "cell_type": "code",
   "execution_count": 6,
   "metadata": {},
   "outputs": [
    {
     "name": "stdout",
     "output_type": "stream",
     "text": [
      "<|im_start|>system\n",
      "<|mrc|>True\n",
      "**Question**\n",
      "Were Scott Derrickson and Ed Wood of the same nationality?\n",
      "<|summary|>Flase<|im_end|>\n",
      "<|im_start|>user\n",
      "**Document**\n",
      "Document 1 : Ed Wood (film)\n",
      "[1] Ed Wood is a 1994 American biographical period comedy-drama film directed and produced by Tim Burton, and starring Johnny Depp as cult filmmaker Ed Wood.\n",
      "[2]  The film concerns the period in Wood's life when he made his best-known films as well as his relationship with actor Bela Lugosi, played by Martin Landau.\n",
      "[3]  Sarah Jessica Parker, Patricia Arquette, Jeffrey Jones, Lisa Marie, and Bill Murray are among the supporting cast.\n",
      "\n",
      "Document 2 : Scott Derrickson\n",
      "[4] Scott Derrickson (born July 16, 1966) is an American director, screenwriter and producer.\n",
      "[5]  He lives in Los Angeles, California.\n",
      "[6]  He is best known for directing horror films such as \"Sinister\", \"The Exorcism of Emily Rose\", and \"Deliver Us From Evil\", as well as the 2016 Marvel Cinematic Universe installment, \"Doctor Strange.\"\n",
      "\n",
      "Document 3 : Woodson, Arkansas\n",
      "[7] Woodson is a census-designated place (CDP) in Pulaski County, Arkansas, in the United States.\n",
      "[8]  Its population was 403 at the 2010 census.\n",
      "[9]  It is part of the Little Rock–North Little Rock–Conway Metropolitan Statistical Area.\n",
      "[10]  Woodson and its accompanying Woodson Lake and Wood Hollow are the namesake for Ed Wood Sr., a prominent plantation owner, trader, and businessman at the turn of the 20th century.\n",
      "[11]  Woodson is adjacent to the Wood Plantation, the largest of the plantations own by Ed Wood Sr.\n",
      "\n",
      "Document 4 : Tyler Bates\n",
      "[12] Tyler Bates (born June 5, 1965) is an American musician, music producer, and composer for films, television, and video games.\n",
      "[13]  Much of his work is in the action and horror film genres, with films like \"Dawn of the Dead, 300, Sucker Punch,\" and \"John Wick.\"\n",
      "[14]  He has collaborated with directors like Zack Snyder, Rob Zombie, Neil Marshall, William Friedkin, Scott Derrickson, and James Gunn.\n",
      "[15]  With Gunn, he has scored every one of the director's films; including \"Guardians of the Galaxy\", which became one of the highest grossing domestic movies of 2014, and its 2017 sequel.\n",
      "[16]  In addition, he is also the lead guitarist of the American rock band Marilyn Manson, and produced its albums \"The Pale Emperor\" and \"Heaven Upside Down\".\n",
      "\n",
      "Document 5 : Ed Wood\n",
      "[17] Edward Davis Wood Jr. (October 10, 1924 – December 10, 1978) was an American filmmaker, actor, writer, producer, and director.\n",
      "\n",
      "Document 6 : Deliver Us from Evil (2014 film)\n",
      "[18] Deliver Us from Evil is a 2014 American supernatural horror film directed by Scott Derrickson and produced by Jerry Bruckheimer.\n",
      "[19]  The film is officially based on a 2001 non-fiction book entitled \"Beware the Night\" by Ralph Sarchie and Lisa Collier Cool, and its marketing campaign highlighted that it was \"inspired by actual accounts\".\n",
      "[20]  The film stars Eric Bana, Édgar Ramírez, Sean Harris, Olivia Munn, and Joel McHale in the main roles and was released on July 2, 2014.\n",
      "\n",
      "Document 7 : Adam Collis\n",
      "[21] Adam Collis is an American filmmaker and actor.\n",
      "[22]  He attended the Duke University from 1986 to 1990 and the University of California, Los Angeles from 2007 to 2010.\n",
      "[23]  He also studied cinema at the University of Southern California from 1991 to 1997.\n",
      "[24]  Collis first work was the assistant director for the Scott Derrickson's short \"Love in the Ruins\" (1995).\n",
      "[25]  In 1998, he played \"Crankshaft\" in Eric Koyanagi's \"Hundred Percent\".\n",
      "\n",
      "Document 8 : Sinister (film)\n",
      "[26] Sinister is a 2012 supernatural horror film directed by Scott Derrickson and written by Derrickson and C. Robert Cargill.\n",
      "[27]  It stars Ethan Hawke as fictional true-crime writer Ellison Oswalt who discovers a box of home movies in his attic that puts his family in danger.\n",
      "\n",
      "Document 9 : Conrad Brooks\n",
      "[28] Conrad Brooks (born Conrad Biedrzycki on January 3, 1931 in Baltimore, Maryland) is an American actor.\n",
      "[29]  He moved to Hollywood, California in 1948 to pursue a career in acting.\n",
      "[30]  He got his start in movies appearing in Ed Wood films such as \"Plan 9 from Outer Space\", \"Glen or Glenda\", and \"Jail Bait.\"\n",
      "[31]  He took a break from acting during the 1960s and 1970s but due to the ongoing interest in the films of Ed Wood, he reemerged in the 1980s and has become a prolific actor.\n",
      "[32]  He also has since gone on to write, produce and direct several films.\n",
      "\n",
      "Document 10 : Doctor Strange (2016 film)\n",
      "[33] Doctor Strange is a 2016 American superhero film based on the Marvel Comics character of the same name, produced by Marvel Studios and distributed by Walt Disney Studios Motion Pictures.\n",
      "[34]  It is the fourteenth film of the Marvel Cinematic Universe (MCU).\n",
      "[35]  The film was directed by Scott Derrickson, who wrote it with Jon Spaihts and C. Robert Cargill, and stars Benedict Cumberbatch as Stephen Strange, along with Chiwetel Ejiofor, Rachel McAdams, Benedict Wong, Michael Stuhlbarg, Benjamin Bratt, Scott Adkins, Mads Mikkelsen, and Tilda Swinton.\n",
      "[36]  In \"Doctor Strange\", surgeon Strange learns the mystic arts after a career-ending car accident.<|im_end|>\n",
      "\n"
     ]
    }
   ],
   "source": [
    "print(\"<|im_start|>system\\n<|mrc|>True\\n**Question**\\nWere Scott Derrickson and Ed Wood of the same nationality?\\n<|summary|>Flase<|im_end|>\\n<|im_start|>user\\n**Document**\\nDocument 1 : Ed Wood (film)\\n[1] Ed Wood is a 1994 American biographical period comedy-drama film directed and produced by Tim Burton, and starring Johnny Depp as cult filmmaker Ed Wood.\\n[2]  The film concerns the period in Wood's life when he made his best-known films as well as his relationship with actor Bela Lugosi, played by Martin Landau.\\n[3]  Sarah Jessica Parker, Patricia Arquette, Jeffrey Jones, Lisa Marie, and Bill Murray are among the supporting cast.\\n\\nDocument 2 : Scott Derrickson\\n[4] Scott Derrickson (born July 16, 1966) is an American director, screenwriter and producer.\\n[5]  He lives in Los Angeles, California.\\n[6]  He is best known for directing horror films such as \\\"Sinister\\\", \\\"The Exorcism of Emily Rose\\\", and \\\"Deliver Us From Evil\\\", as well as the 2016 Marvel Cinematic Universe installment, \\\"Doctor Strange.\\\"\\n\\nDocument 3 : Woodson, Arkansas\\n[7] Woodson is a census-designated place (CDP) in Pulaski County, Arkansas, in the United States.\\n[8]  Its population was 403 at the 2010 census.\\n[9]  It is part of the Little Rock–North Little Rock–Conway Metropolitan Statistical Area.\\n[10]  Woodson and its accompanying Woodson Lake and Wood Hollow are the namesake for Ed Wood Sr., a prominent plantation owner, trader, and businessman at the turn of the 20th century.\\n[11]  Woodson is adjacent to the Wood Plantation, the largest of the plantations own by Ed Wood Sr.\\n\\nDocument 4 : Tyler Bates\\n[12] Tyler Bates (born June 5, 1965) is an American musician, music producer, and composer for films, television, and video games.\\n[13]  Much of his work is in the action and horror film genres, with films like \\\"Dawn of the Dead, 300, Sucker Punch,\\\" and \\\"John Wick.\\\"\\n[14]  He has collaborated with directors like Zack Snyder, Rob Zombie, Neil Marshall, William Friedkin, Scott Derrickson, and James Gunn.\\n[15]  With Gunn, he has scored every one of the director's films; including \\\"Guardians of the Galaxy\\\", which became one of the highest grossing domestic movies of 2014, and its 2017 sequel.\\n[16]  In addition, he is also the lead guitarist of the American rock band Marilyn Manson, and produced its albums \\\"The Pale Emperor\\\" and \\\"Heaven Upside Down\\\".\\n\\nDocument 5 : Ed Wood\\n[17] Edward Davis Wood Jr. (October 10, 1924 – December 10, 1978) was an American filmmaker, actor, writer, producer, and director.\\n\\nDocument 6 : Deliver Us from Evil (2014 film)\\n[18] Deliver Us from Evil is a 2014 American supernatural horror film directed by Scott Derrickson and produced by Jerry Bruckheimer.\\n[19]  The film is officially based on a 2001 non-fiction book entitled \\\"Beware the Night\\\" by Ralph Sarchie and Lisa Collier Cool, and its marketing campaign highlighted that it was \\\"inspired by actual accounts\\\".\\n[20]  The film stars Eric Bana, Édgar Ramírez, Sean Harris, Olivia Munn, and Joel McHale in the main roles and was released on July 2, 2014.\\n\\nDocument 7 : Adam Collis\\n[21] Adam Collis is an American filmmaker and actor.\\n[22]  He attended the Duke University from 1986 to 1990 and the University of California, Los Angeles from 2007 to 2010.\\n[23]  He also studied cinema at the University of Southern California from 1991 to 1997.\\n[24]  Collis first work was the assistant director for the Scott Derrickson's short \\\"Love in the Ruins\\\" (1995).\\n[25]  In 1998, he played \\\"Crankshaft\\\" in Eric Koyanagi's \\\"Hundred Percent\\\".\\n\\nDocument 8 : Sinister (film)\\n[26] Sinister is a 2012 supernatural horror film directed by Scott Derrickson and written by Derrickson and C. Robert Cargill.\\n[27]  It stars Ethan Hawke as fictional true-crime writer Ellison Oswalt who discovers a box of home movies in his attic that puts his family in danger.\\n\\nDocument 9 : Conrad Brooks\\n[28] Conrad Brooks (born Conrad Biedrzycki on January 3, 1931 in Baltimore, Maryland) is an American actor.\\n[29]  He moved to Hollywood, California in 1948 to pursue a career in acting.\\n[30]  He got his start in movies appearing in Ed Wood films such as \\\"Plan 9 from Outer Space\\\", \\\"Glen or Glenda\\\", and \\\"Jail Bait.\\\"\\n[31]  He took a break from acting during the 1960s and 1970s but due to the ongoing interest in the films of Ed Wood, he reemerged in the 1980s and has become a prolific actor.\\n[32]  He also has since gone on to write, produce and direct several films.\\n\\nDocument 10 : Doctor Strange (2016 film)\\n[33] Doctor Strange is a 2016 American superhero film based on the Marvel Comics character of the same name, produced by Marvel Studios and distributed by Walt Disney Studios Motion Pictures.\\n[34]  It is the fourteenth film of the Marvel Cinematic Universe (MCU).\\n[35]  The film was directed by Scott Derrickson, who wrote it with Jon Spaihts and C. Robert Cargill, and stars Benedict Cumberbatch as Stephen Strange, along with Chiwetel Ejiofor, Rachel McAdams, Benedict Wong, Michael Stuhlbarg, Benjamin Bratt, Scott Adkins, Mads Mikkelsen, and Tilda Swinton.\\n[36]  In \\\"Doctor Strange\\\", surgeon Strange learns the mystic arts after a career-ending car accident.<|im_end|>\\n\")"
   ]
  },
  {
   "cell_type": "code",
   "execution_count": null,
   "metadata": {},
   "outputs": [],
   "source": []
  }
 ],
 "metadata": {
  "kernelspec": {
   "display_name": ".venv",
   "language": "python",
   "name": "python3"
  },
  "language_info": {
   "codemirror_mode": {
    "name": "ipython",
    "version": 3
   },
   "file_extension": ".py",
   "mimetype": "text/x-python",
   "name": "python",
   "nbconvert_exporter": "python",
   "pygments_lexer": "ipython3",
   "version": "3.8.10"
  }
 },
 "nbformat": 4,
 "nbformat_minor": 2
}
